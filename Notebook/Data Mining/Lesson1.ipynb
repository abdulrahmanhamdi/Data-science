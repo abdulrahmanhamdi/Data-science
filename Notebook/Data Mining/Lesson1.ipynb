{
 "cells": [
  {
   "cell_type": "markdown",
   "id": "fa77d603-816a-450f-aa74-451fbfabc842",
   "metadata": {},
   "source": [
    "# Temel Veri Yapıları"
   ]
  },
  {
   "cell_type": "code",
   "execution_count": 1,
   "id": "1bfdc014-c109-4c4d-b125-16eb327e21fb",
   "metadata": {},
   "outputs": [],
   "source": [
    "f=[1,2,-4,0,6,45]"
   ]
  },
  {
   "cell_type": "code",
   "execution_count": 2,
   "id": "59a6a079-93ed-490c-ab49-268f2fd57251",
   "metadata": {},
   "outputs": [
    {
     "data": {
      "text/plain": [
       "6"
      ]
     },
     "execution_count": 2,
     "metadata": {},
     "output_type": "execute_result"
    }
   ],
   "source": [
    "len(f)"
   ]
  },
  {
   "cell_type": "code",
   "execution_count": 3,
   "id": "dd5ed9f2-bb07-4b1d-ac00-79f6f6cb4d7c",
   "metadata": {},
   "outputs": [
    {
     "name": "stdout",
     "output_type": "stream",
     "text": [
      "[1, 2, -4, 0, 6, 45, -6]\n"
     ]
    }
   ],
   "source": [
    "f.append(-6)\n",
    "print(f)"
   ]
  },
  {
   "cell_type": "code",
   "execution_count": 10,
   "id": "4b7dfaf0-1166-476e-905a-c9e91add1ce3",
   "metadata": {},
   "outputs": [
    {
     "name": "stdout",
     "output_type": "stream",
     "text": [
      "[1, -10, 2, -4, 0, 6, 45, -6]\n"
     ]
    }
   ],
   "source": [
    "f.insert(1,-10)\n",
    "print(f)"
   ]
  },
  {
   "cell_type": "code",
   "execution_count": 23,
   "id": "5f920954-fcfe-43f5-bab2-491b953691c3",
   "metadata": {},
   "outputs": [
    {
     "name": "stdout",
     "output_type": "stream",
     "text": [
      "[0, 2, 4, 6, 8]\n"
     ]
    }
   ],
   "source": [
    "bos_list=[]\n",
    "for i in range(10):\n",
    "    if i%2==0:\n",
    "        bos_list.append(i)\n",
    "\n",
    "print(bos_list)"
   ]
  },
  {
   "cell_type": "code",
   "execution_count": 19,
   "id": "e72f0a34-9ca5-4e61-a7bf-77655dc9a95c",
   "metadata": {},
   "outputs": [
    {
     "name": "stdout",
     "output_type": "stream",
     "text": [
      "[0, 1, 2, 3]\n"
     ]
    }
   ],
   "source": [
    "bos_list2= [i for i in range(4)]\n",
    "print(bos_list)"
   ]
  },
  {
   "cell_type": "code",
   "execution_count": 11,
   "id": "a4f28824-5525-4849-879c-f494f718fa2e",
   "metadata": {},
   "outputs": [
    {
     "name": "stdout",
     "output_type": "stream",
     "text": [
      "[1, -10, 2, -4, 0, 6, 45, -6]\n",
      "[1, -10, 2, -4, 0, 6, 45, -6]\n"
     ]
    }
   ],
   "source": [
    "print(f)\n",
    "f.pop\n",
    "print(f)"
   ]
  },
  {
   "cell_type": "markdown",
   "id": "e49d3792-2f6c-4514-9b61-df89562ef534",
   "metadata": {},
   "source": [
    "pytho'da baştan saymaya 0'dan; sondan saymaya -1'den başlanır"
   ]
  },
  {
   "cell_type": "code",
   "execution_count": 12,
   "id": "284333cd-90f4-403d-afa0-08d668922e79",
   "metadata": {},
   "outputs": [
    {
     "name": "stdout",
     "output_type": "stream",
     "text": [
      "[1, -10, 2, -4, 0, 6, -6]\n"
     ]
    }
   ],
   "source": [
    "f.pop(-2)\n",
    "print(f)"
   ]
  },
  {
   "cell_type": "code",
   "execution_count": 13,
   "id": "e0d7d8d8-7c4a-44fa-9236-579c3c4a1531",
   "metadata": {},
   "outputs": [
    {
     "data": {
      "text/plain": [
       "4"
      ]
     },
     "execution_count": 13,
     "metadata": {},
     "output_type": "execute_result"
    }
   ],
   "source": [
    "f.index(0)"
   ]
  },
  {
   "cell_type": "code",
   "execution_count": 14,
   "id": "de598f20-2b15-4846-8016-bda0b27e333b",
   "metadata": {},
   "outputs": [
    {
     "data": {
      "text/plain": [
       "-4"
      ]
     },
     "execution_count": 14,
     "metadata": {},
     "output_type": "execute_result"
    }
   ],
   "source": [
    "f[3]"
   ]
  },
  {
   "cell_type": "code",
   "execution_count": 18,
   "id": "64de2b44-3fe4-43de-b2b3-d916b141cf24",
   "metadata": {},
   "outputs": [
    {
     "name": "stdout",
     "output_type": "stream",
     "text": [
      "[1, -10, 2, -4, 0, 6, -6, -1, -1, -1, -1, -1, -1, -1]\n"
     ]
    }
   ],
   "source": [
    "for i in range(7):\n",
    "    f.append(-1)\n",
    "print(f)"
   ]
  },
  {
   "cell_type": "code",
   "execution_count": 24,
   "id": "2c81d155-7c0a-4a6f-82b3-1251d2f21fff",
   "metadata": {},
   "outputs": [
    {
     "data": {
      "text/plain": [
       "7"
      ]
     },
     "execution_count": 24,
     "metadata": {},
     "output_type": "execute_result"
    }
   ],
   "source": [
    "f.count(-1)"
   ]
  },
  {
   "cell_type": "markdown",
   "id": "5bc12e36-df15-4ea2-8787-df77e9945e55",
   "metadata": {},
   "source": [
    "Tuple"
   ]
  },
  {
   "cell_type": "code",
   "execution_count": 34,
   "id": "0489493b-c9b0-425f-8055-0fd63bddb320",
   "metadata": {},
   "outputs": [],
   "source": [
    "f = ('firat','hale','canan')"
   ]
  },
  {
   "cell_type": "code",
   "execution_count": 35,
   "id": "ca9c6815-9d52-43ee-b9d7-b1b490025338",
   "metadata": {},
   "outputs": [
    {
     "data": {
      "text/plain": [
       "tuple"
      ]
     },
     "execution_count": 35,
     "metadata": {},
     "output_type": "execute_result"
    }
   ],
   "source": [
    "type(f)"
   ]
  },
  {
   "cell_type": "code",
   "execution_count": 41,
   "id": "c5962753-a821-4644-9022-9d9821f6bdd8",
   "metadata": {},
   "outputs": [
    {
     "data": {
      "text/plain": [
       "['jose morinho']"
      ]
     },
     "execution_count": 41,
     "metadata": {},
     "output_type": "execute_result"
    }
   ],
   "source": [
    "ad= 'jose morinho'\n",
    "ad.split(',')"
   ]
  },
  {
   "cell_type": "code",
   "execution_count": 42,
   "id": "cfcc8f11-10d2-4bc4-8a45-6441c8cd26f8",
   "metadata": {},
   "outputs": [
    {
     "data": {
      "text/plain": [
       "12"
      ]
     },
     "execution_count": 42,
     "metadata": {},
     "output_type": "execute_result"
    }
   ],
   "source": [
    "len(ad)"
   ]
  },
  {
   "cell_type": "code",
   "execution_count": 37,
   "id": "c2f5e20e-0dbc-4eff-9b36-2fde3e6d6ba0",
   "metadata": {},
   "outputs": [
    {
     "data": {
      "text/plain": [
       "'Jose morinho'"
      ]
     },
     "execution_count": 37,
     "metadata": {},
     "output_type": "execute_result"
    }
   ],
   "source": [
    "ad.capitalize()"
   ]
  },
  {
   "cell_type": "code",
   "execution_count": 38,
   "id": "bccb9017-90de-4157-9e67-b4eb17c72907",
   "metadata": {},
   "outputs": [
    {
     "name": "stdout",
     "output_type": "stream",
     "text": [
      "jose morinhojunior\n"
     ]
    }
   ],
   "source": [
    "ad_2 = 'junior'\n",
    "yeni_ad = ad+ad_2\n",
    "print(yeni_ad)"
   ]
  },
  {
   "cell_type": "code",
   "execution_count": 43,
   "id": "84576cdf-d59c-43b7-81a5-ab714c1af45d",
   "metadata": {},
   "outputs": [
    {
     "data": {
      "text/plain": [
       "True"
      ]
     },
     "execution_count": 43,
     "metadata": {},
     "output_type": "execute_result"
    }
   ],
   "source": [
    "ad.endswith('o')"
   ]
  },
  {
   "cell_type": "code",
   "execution_count": 44,
   "id": "85de43dd-11f1-4d73-9941-309104c6a8fc",
   "metadata": {},
   "outputs": [
    {
     "data": {
      "text/plain": [
       "False"
      ]
     },
     "execution_count": 44,
     "metadata": {},
     "output_type": "execute_result"
    }
   ],
   "source": [
    "ad.endswith('p')"
   ]
  },
  {
   "cell_type": "markdown",
   "id": "c8b154e5-26af-435c-90e7-71b4648f60cc",
   "metadata": {},
   "source": [
    "Dictionary"
   ]
  },
  {
   "cell_type": "code",
   "execution_count": 45,
   "id": "5b0e51d3-829b-48f4-b0f0-90e8c7f5c35f",
   "metadata": {},
   "outputs": [],
   "source": [
    "sarkicilar = {'sarkici':['Gulsen','Buray'],'Abone_sayisi':[700000,1300000],'album sayisi':[14,6]}"
   ]
  },
  {
   "cell_type": "code",
   "execution_count": 46,
   "id": "2098e1f8-4dad-4cec-b305-50e29ef4bc9d",
   "metadata": {},
   "outputs": [
    {
     "name": "stdout",
     "output_type": "stream",
     "text": [
      "{'sarkici': ['Gulsen', 'Buray'], 'Abone_sayisi': [700000, 1300000], 'album sayisi': [14, 6]}\n"
     ]
    }
   ],
   "source": [
    "print(sarkicilar)"
   ]
  },
  {
   "cell_type": "code",
   "execution_count": 47,
   "id": "d952895f-c7fa-4ab8-991a-5477bb2f1feb",
   "metadata": {},
   "outputs": [
    {
     "data": {
      "text/plain": [
       "dict_keys(['sarkici', 'Abone_sayisi', 'album sayisi'])"
      ]
     },
     "execution_count": 47,
     "metadata": {},
     "output_type": "execute_result"
    }
   ],
   "source": [
    "sarkicilar.keys()"
   ]
  },
  {
   "cell_type": "code",
   "execution_count": 51,
   "id": "e08302e4-3c09-40d0-9f8b-77c27597d8eb",
   "metadata": {},
   "outputs": [
    {
     "data": {
      "text/plain": [
       "[14, 6]"
      ]
     },
     "execution_count": 51,
     "metadata": {},
     "output_type": "execute_result"
    }
   ],
   "source": [
    "sarkicilar['album sayisi']"
   ]
  },
  {
   "cell_type": "code",
   "execution_count": 52,
   "id": "a02c7c44-f415-4791-846b-e16fd2f70bc8",
   "metadata": {},
   "outputs": [
    {
     "data": {
      "text/plain": [
       "6"
      ]
     },
     "execution_count": 52,
     "metadata": {},
     "output_type": "execute_result"
    }
   ],
   "source": [
    "sarkicilar['album sayisi'][1]"
   ]
  },
  {
   "cell_type": "code",
   "execution_count": 55,
   "id": "e0dcdf30-23b6-48fc-b85f-7679c3a9c1b5",
   "metadata": {},
   "outputs": [
    {
     "data": {
      "text/plain": [
       "[14, 6]"
      ]
     },
     "execution_count": 55,
     "metadata": {},
     "output_type": "execute_result"
    }
   ],
   "source": [
    "sarkicilar.get('album sayisi')"
   ]
  },
  {
   "cell_type": "code",
   "execution_count": 58,
   "id": "4cd9a263-c85b-4567-8438-052570249cde",
   "metadata": {},
   "outputs": [
    {
     "data": {
      "text/plain": [
       "'Boyle bir key yok!'"
      ]
     },
     "execution_count": 58,
     "metadata": {},
     "output_type": "execute_result"
    }
   ],
   "source": [
    "sarkicilar.get('yas','Boyle bir key yok!')"
   ]
  },
  {
   "cell_type": "markdown",
   "id": "b335a99e-98c3-4fc6-a7a4-f65dbb80ad4b",
   "metadata": {},
   "source": [
    "#Pandas"
   ]
  },
  {
   "cell_type": "code",
   "execution_count": 61,
   "id": "ca305487-0a0f-4898-923c-b9c0a009aff9",
   "metadata": {},
   "outputs": [],
   "source": [
    "import pandas as pd"
   ]
  },
  {
   "cell_type": "code",
   "execution_count": 59,
   "id": "b910b953-0eea-49d5-a98a-43dd4e052a31",
   "metadata": {},
   "outputs": [
    {
     "data": {
      "text/plain": [
       "{'sarkici': ['Gulsen', 'Buray'],\n",
       " 'Abone_sayisi': [700000, 1300000],\n",
       " 'album sayisi': [14, 6]}"
      ]
     },
     "execution_count": 59,
     "metadata": {},
     "output_type": "execute_result"
    }
   ],
   "source": [
    "sarkicilar"
   ]
  },
  {
   "cell_type": "code",
   "execution_count": 62,
   "id": "8a8c3084-7212-4262-a3f8-4a94b9699205",
   "metadata": {},
   "outputs": [],
   "source": [
    "sarkicilar_df=pd.DataFrame(sarkicilar)"
   ]
  },
  {
   "cell_type": "code",
   "execution_count": 63,
   "id": "034f07e2-2e49-4e6d-b5a5-35492e0d68d6",
   "metadata": {},
   "outputs": [
    {
     "data": {
      "text/html": [
       "<div>\n",
       "<style scoped>\n",
       "    .dataframe tbody tr th:only-of-type {\n",
       "        vertical-align: middle;\n",
       "    }\n",
       "\n",
       "    .dataframe tbody tr th {\n",
       "        vertical-align: top;\n",
       "    }\n",
       "\n",
       "    .dataframe thead th {\n",
       "        text-align: right;\n",
       "    }\n",
       "</style>\n",
       "<table border=\"1\" class=\"dataframe\">\n",
       "  <thead>\n",
       "    <tr style=\"text-align: right;\">\n",
       "      <th></th>\n",
       "      <th>sarkici</th>\n",
       "      <th>Abone_sayisi</th>\n",
       "      <th>album sayisi</th>\n",
       "    </tr>\n",
       "  </thead>\n",
       "  <tbody>\n",
       "    <tr>\n",
       "      <th>0</th>\n",
       "      <td>Gulsen</td>\n",
       "      <td>700000</td>\n",
       "      <td>14</td>\n",
       "    </tr>\n",
       "    <tr>\n",
       "      <th>1</th>\n",
       "      <td>Buray</td>\n",
       "      <td>1300000</td>\n",
       "      <td>6</td>\n",
       "    </tr>\n",
       "  </tbody>\n",
       "</table>\n",
       "</div>"
      ],
      "text/plain": [
       "  sarkici  Abone_sayisi  album sayisi\n",
       "0  Gulsen        700000            14\n",
       "1   Buray       1300000             6"
      ]
     },
     "execution_count": 63,
     "metadata": {},
     "output_type": "execute_result"
    }
   ],
   "source": [
    "sarkicilar_df.head()"
   ]
  },
  {
   "cell_type": "code",
   "execution_count": 64,
   "id": "c730a4cb-52e0-418f-a0a2-665f9dd0c670",
   "metadata": {},
   "outputs": [
    {
     "data": {
      "text/plain": [
       "0    14\n",
       "1     6\n",
       "Name: album sayisi, dtype: int64"
      ]
     },
     "execution_count": 64,
     "metadata": {},
     "output_type": "execute_result"
    }
   ],
   "source": [
    "sarkicilar_df['album sayisi']"
   ]
  },
  {
   "cell_type": "code",
   "execution_count": null,
   "id": "e5a4d1b9-73b2-45a3-91f4-f037e54ba3a9",
   "metadata": {},
   "outputs": [],
   "source": []
  }
 ],
 "metadata": {
  "kernelspec": {
   "display_name": "Python 3 (ipykernel)",
   "language": "python",
   "name": "python3"
  },
  "language_info": {
   "codemirror_mode": {
    "name": "ipython",
    "version": 3
   },
   "file_extension": ".py",
   "mimetype": "text/x-python",
   "name": "python",
   "nbconvert_exporter": "python",
   "pygments_lexer": "ipython3",
   "version": "3.12.3"
  }
 },
 "nbformat": 4,
 "nbformat_minor": 5
}
