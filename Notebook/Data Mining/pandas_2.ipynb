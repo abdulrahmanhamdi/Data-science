{
 "cells": [
  {
   "cell_type": "code",
   "execution_count": 1,
   "id": "469fac3b-04f2-40d4-938e-07cd0f6fc2ad",
   "metadata": {},
   "outputs": [
    {
     "data": {
      "text/plain": [
       "'/home/abdulrahman/env/Notebook/Data Mining'"
      ]
     },
     "execution_count": 1,
     "metadata": {},
     "output_type": "execute_result"
    }
   ],
   "source": [
    "import os\n",
    "os.getcwd()"
   ]
  },
  {
   "cell_type": "code",
   "execution_count": 2,
   "id": "bb23cf6b-080d-4acf-b83a-8d3c0dca77a8",
   "metadata": {},
   "outputs": [],
   "source": [
    "import pandas as pd"
   ]
  },
  {
   "cell_type": "code",
   "execution_count": 3,
   "id": "a9e90da3-918d-45b7-a061-78e571250980",
   "metadata": {},
   "outputs": [],
   "source": [
    "fifa =pd.read_excel(\"fifawc.xlsx\")"
   ]
  },
  {
   "cell_type": "code",
   "execution_count": 4,
   "id": "25e244fe-b68f-4fb2-9b30-c58c16f935ba",
   "metadata": {},
   "outputs": [
    {
     "data": {
      "text/html": [
       "<div>\n",
       "<style scoped>\n",
       "    .dataframe tbody tr th:only-of-type {\n",
       "        vertical-align: middle;\n",
       "    }\n",
       "\n",
       "    .dataframe tbody tr th {\n",
       "        vertical-align: top;\n",
       "    }\n",
       "\n",
       "    .dataframe thead th {\n",
       "        text-align: right;\n",
       "    }\n",
       "</style>\n",
       "<table border=\"1\" class=\"dataframe\">\n",
       "  <thead>\n",
       "    <tr style=\"text-align: right;\">\n",
       "      <th></th>\n",
       "      <th>FIFA Ranking</th>\n",
       "      <th>National Team Jersey Number</th>\n",
       "    </tr>\n",
       "  </thead>\n",
       "  <tbody>\n",
       "    <tr>\n",
       "      <th>count</th>\n",
       "      <td>814.000000</td>\n",
       "      <td>813.000000</td>\n",
       "    </tr>\n",
       "    <tr>\n",
       "      <th>mean</th>\n",
       "      <td>21.713759</td>\n",
       "      <td>13.507995</td>\n",
       "    </tr>\n",
       "    <tr>\n",
       "      <th>std</th>\n",
       "      <td>16.159655</td>\n",
       "      <td>7.523788</td>\n",
       "    </tr>\n",
       "    <tr>\n",
       "      <th>min</th>\n",
       "      <td>1.000000</td>\n",
       "      <td>1.000000</td>\n",
       "    </tr>\n",
       "    <tr>\n",
       "      <th>25%</th>\n",
       "      <td>9.000000</td>\n",
       "      <td>7.000000</td>\n",
       "    </tr>\n",
       "    <tr>\n",
       "      <th>50%</th>\n",
       "      <td>18.000000</td>\n",
       "      <td>14.000000</td>\n",
       "    </tr>\n",
       "    <tr>\n",
       "      <th>75%</th>\n",
       "      <td>29.000000</td>\n",
       "      <td>20.000000</td>\n",
       "    </tr>\n",
       "    <tr>\n",
       "      <th>max</th>\n",
       "      <td>60.000000</td>\n",
       "      <td>26.000000</td>\n",
       "    </tr>\n",
       "  </tbody>\n",
       "</table>\n",
       "</div>"
      ],
      "text/plain": [
       "       FIFA Ranking   National Team Jersey Number\n",
       "count     814.000000                   813.000000\n",
       "mean       21.713759                    13.507995\n",
       "std        16.159655                     7.523788\n",
       "min         1.000000                     1.000000\n",
       "25%         9.000000                     7.000000\n",
       "50%        18.000000                    14.000000\n",
       "75%        29.000000                    20.000000\n",
       "max        60.000000                    26.000000"
      ]
     },
     "execution_count": 4,
     "metadata": {},
     "output_type": "execute_result"
    }
   ],
   "source": [
    "fifa.describe()"
   ]
  },
  {
   "cell_type": "code",
   "execution_count": 6,
   "id": "e9e10f3f-a86c-41a5-a859-6c6ddbb6dff4",
   "metadata": {},
   "outputs": [
    {
     "data": {
      "text/plain": [
       "<bound method NDFrame.head of     Nationality   FIFA Ranking  National Team Kit Sponsor Position  \\\n",
       "0      Argentina              2                    Adidas       GK   \n",
       "1      Argentina              2                    Adidas       GK   \n",
       "2      Argentina              2                    Adidas       GK   \n",
       "3      Argentina              2                    Adidas       DF   \n",
       "4      Argentina              2                    Adidas       DF   \n",
       "..           ...            ...                       ...      ...   \n",
       "809       Canada             53                      Nike       FW   \n",
       "810       Canada             53                      Nike       FW   \n",
       "811       Canada             53                      Nike       FW   \n",
       "812       Canada             53                      Nike       FW   \n",
       "813       Canada             53                      Nike       FW   \n",
       "\n",
       "     National Team Jersey Number           Player DOB          Club   \\\n",
       "0                           23.0  1992-09-02 00:00:00    Aston Villa   \n",
       "1                            1.0  1986-10-16 00:00:00          River   \n",
       "2                           12.0  1992-05-20 00:00:00     Villarreal   \n",
       "3                           19.0  1988-02-12 00:00:00        Benfica   \n",
       "4                            8.0  1991-10-28 00:00:00        Sevilla   \n",
       "..                           ...                  ...            ...   \n",
       "809                         17.0  1995-04-17 00:00:00    Club Brugge   \n",
       "810                         19.0  2000-11-02 00:00:00  Bayern Munich   \n",
       "811                         20.0  2000-01-14 00:00:00          Lille   \n",
       "812                         23.0  1999-09-27 00:00:00          Basel   \n",
       "813                         12.0  1998-09-21 00:00:00         Troyes   \n",
       "\n",
       "          Player Name   Appearances Goals Scored  Assists Provided   \\\n",
       "0    Emiliano Martinez            7             0                 0   \n",
       "1        Franco Armani            0             -                 -   \n",
       "2       Geronimo Rulli            0             -                 -   \n",
       "3     Nicolas Otamendi            7             0                 1   \n",
       "4         Marcos Acuna            6             0                 0   \n",
       "..                 ...          ...           ...               ...   \n",
       "809         Cyle Larin            3             0                 0   \n",
       "810    Alphonso Davies            3             1                 0   \n",
       "811     Jonathan David            3             0                 0   \n",
       "812        Liam Millar            1             0                 0   \n",
       "813           Ike Ugbo          N.A           N.A               N.A   \n",
       "\n",
       "    Dribbles per 90 Interceptions per 90 Tackles per 90  \\\n",
       "0                 0                    0              0   \n",
       "1                 -                    -              -   \n",
       "2                 -                    -              -   \n",
       "3              0.33                 1.17            1.3   \n",
       "4              1.45                 0.48            2.9   \n",
       "..              ...                  ...            ...   \n",
       "809            1.33                    0              0   \n",
       "810               6                    1           0.67   \n",
       "811            1.41                    0           0.47   \n",
       "812               0                    0              0   \n",
       "813             N.A                  N.A            N.A   \n",
       "\n",
       "    Total Duels Won per 90 Save Percentage Clean Sheets  \\\n",
       "0                     0.65          0.4667         0.43   \n",
       "1                        -               -            -   \n",
       "2                        -               -            -   \n",
       "3                     7.17               -            -   \n",
       "4                     7.97               -            -   \n",
       "..                     ...             ...          ...   \n",
       "809                   1.95               -            -   \n",
       "810                   6.67               -            -   \n",
       "811                   1.88               -            -   \n",
       "812                      0               -            -   \n",
       "813                    N.A               -            -   \n",
       "\n",
       "    Brand Sponsor/Brand Used  \n",
       "0                     Adidas  \n",
       "1                       Nike  \n",
       "2                     Adidas  \n",
       "3                       Nike  \n",
       "4                       Nike  \n",
       "..                       ...  \n",
       "809                     Nike  \n",
       "810                     Nike  \n",
       "811                   Adidas  \n",
       "812                   Adidas  \n",
       "813                     Nike  \n",
       "\n",
       "[814 rows x 18 columns]>"
      ]
     },
     "execution_count": 6,
     "metadata": {},
     "output_type": "execute_result"
    }
   ],
   "source": [
    "fifa.head"
   ]
  },
  {
   "cell_type": "code",
   "execution_count": 6,
   "id": "2e831cf9-77c9-4d96-828a-2d2bc6f36d6c",
   "metadata": {},
   "outputs": [
    {
     "data": {
      "text/plain": [
       "Nationality \n",
       "Argentina       26\n",
       "Croatia         26\n",
       "Morocco         26\n",
       "Netherlands     26\n",
       "Portugal        26\n",
       "Brazil          26\n",
       "Poland          26\n",
       "Australia       26\n",
       "Spain           26\n",
       "South Korea     26\n",
       "Uruguay         26\n",
       "Tunisia         26\n",
       "Mexico          26\n",
       "Denmark         26\n",
       "Qatar           26\n",
       "Ecuador         26\n",
       "Ghana           26\n",
       "Germany         26\n",
       "Canada          26\n",
       "Costa Rica      25\n",
       "France          25\n",
       "England         25\n",
       "USA             25\n",
       "Switzerland     25\n",
       "Belgium         25\n",
       "Wales           25\n",
       "Iran            25\n",
       "Senegal         24\n",
       "Japan           24\n",
       "Saudi Arabia    24\n",
       "Cameroon        24\n",
       "Serbia          24\n",
       "Name: count, dtype: int64"
      ]
     },
     "execution_count": 6,
     "metadata": {},
     "output_type": "execute_result"
    }
   ],
   "source": [
    "fifa['Nationality '].value_counts()"
   ]
  },
  {
   "cell_type": "code",
   "execution_count": 19,
   "id": "e60ab267-e8aa-4116-bdeb-08bf11d4dac6",
   "metadata": {},
   "outputs": [],
   "source": [
    "import matplotlib.pyplot as plt"
   ]
  },
  {
   "cell_type": "code",
   "execution_count": 12,
   "id": "797c4476-61aa-4607-a08a-57a42e19020a",
   "metadata": {},
   "outputs": [
    {
     "data": {
      "image/png": "[encoded data removed]",
      "text/plain": [
       "<Figure size 640x480 with 1 Axes>"
      ]
     },
     "metadata": {},
     "output_type": "display_data"
    }
   ],
   "source": [
    "x = [1, 2, 3, 4, 5]\n",
    "y = [2, 3, 5, 7, 11]\n",
    "\n",
    "plt.plot(x, y, label='Line Plot')\n",
    "\n",
    "plt.title('Plot')\n",
    "plt.xlabel('X-axis')\n",
    "plt.ylabel('Y-axis')\n",
    "\n",
    "plt.legend()\n",
    "\n",
    "plt.show()"
   ]
  },
  {
   "cell_type": "code",
   "execution_count": 9,
   "id": "0cc5fe79-e29e-48d2-b1dc-354f6c551b68",
   "metadata": {},
   "outputs": [
    {
     "data": {
      "text/plain": [
       "Index(['Nationality ', 'FIFA Ranking ', 'National Team Kit Sponsor',\n",
       "       'Position', 'National Team Jersey Number', 'Player DOB', 'Club ',\n",
       "       'Player Name ', ' Appearances', 'Goals Scored ', 'Assists Provided ',\n",
       "       'Dribbles per 90', 'Interceptions per 90', 'Tackles per 90',\n",
       "       'Total Duels Won per 90', 'Save Percentage', 'Clean Sheets',\n",
       "       'Brand Sponsor/Brand Used'],\n",
       "      dtype='object')"
      ]
     },
     "execution_count": 9,
     "metadata": {},
     "output_type": "execute_result"
    }
   ],
   "source": [
    "fifa.columns"
   ]
  },
  {
   "cell_type": "code",
   "execution_count": 12,
   "id": "dfbc19f6-1fa6-4196-8014-56fd05e48efc",
   "metadata": {},
   "outputs": [
    {
     "data": {
      "text/html": [
       "<div>\n",
       "<style scoped>\n",
       "    .dataframe tbody tr th:only-of-type {\n",
       "        vertical-align: middle;\n",
       "    }\n",
       "\n",
       "    .dataframe tbody tr th {\n",
       "        vertical-align: top;\n",
       "    }\n",
       "\n",
       "    .dataframe thead th {\n",
       "        text-align: right;\n",
       "    }\n",
       "</style>\n",
       "<table border=\"1\" class=\"dataframe\">\n",
       "  <thead>\n",
       "    <tr style=\"text-align: right;\">\n",
       "      <th></th>\n",
       "      <th>Nationality</th>\n",
       "      <th>FIFA Ranking</th>\n",
       "      <th>National Team Kit Sponsor</th>\n",
       "      <th>Position</th>\n",
       "      <th>National Team Jersey Number</th>\n",
       "      <th>Player DOB</th>\n",
       "      <th>Club</th>\n",
       "      <th>Player Name</th>\n",
       "      <th>Appearances</th>\n",
       "      <th>Goals Scored</th>\n",
       "      <th>Assists Provided</th>\n",
       "      <th>Dribbles per 90</th>\n",
       "      <th>Interceptions per 90</th>\n",
       "      <th>Tackles per 90</th>\n",
       "      <th>Total Duels Won per 90</th>\n",
       "      <th>Save Percentage</th>\n",
       "      <th>Clean Sheets</th>\n",
       "      <th>Brand Sponsor/Brand Used</th>\n",
       "    </tr>\n",
       "  </thead>\n",
       "  <tbody>\n",
       "    <tr>\n",
       "      <th>0</th>\n",
       "      <td>Argentina</td>\n",
       "      <td>2</td>\n",
       "      <td>Adidas</td>\n",
       "      <td>GK</td>\n",
       "      <td>23.0</td>\n",
       "      <td>1992-09-02 00:00:00</td>\n",
       "      <td>Aston Villa</td>\n",
       "      <td>Emiliano Martinez</td>\n",
       "      <td>7</td>\n",
       "      <td>0</td>\n",
       "      <td>0</td>\n",
       "      <td>0</td>\n",
       "      <td>0</td>\n",
       "      <td>0</td>\n",
       "      <td>0.65</td>\n",
       "      <td>0.4667</td>\n",
       "      <td>0.43</td>\n",
       "      <td>Adidas</td>\n",
       "    </tr>\n",
       "    <tr>\n",
       "      <th>1</th>\n",
       "      <td>Argentina</td>\n",
       "      <td>2</td>\n",
       "      <td>Adidas</td>\n",
       "      <td>GK</td>\n",
       "      <td>1.0</td>\n",
       "      <td>1986-10-16 00:00:00</td>\n",
       "      <td>River</td>\n",
       "      <td>Franco Armani</td>\n",
       "      <td>0</td>\n",
       "      <td>-</td>\n",
       "      <td>-</td>\n",
       "      <td>-</td>\n",
       "      <td>-</td>\n",
       "      <td>-</td>\n",
       "      <td>-</td>\n",
       "      <td>-</td>\n",
       "      <td>-</td>\n",
       "      <td>Nike</td>\n",
       "    </tr>\n",
       "    <tr>\n",
       "      <th>2</th>\n",
       "      <td>Argentina</td>\n",
       "      <td>2</td>\n",
       "      <td>Adidas</td>\n",
       "      <td>GK</td>\n",
       "      <td>12.0</td>\n",
       "      <td>1992-05-20 00:00:00</td>\n",
       "      <td>Villarreal</td>\n",
       "      <td>Geronimo Rulli</td>\n",
       "      <td>0</td>\n",
       "      <td>-</td>\n",
       "      <td>-</td>\n",
       "      <td>-</td>\n",
       "      <td>-</td>\n",
       "      <td>-</td>\n",
       "      <td>-</td>\n",
       "      <td>-</td>\n",
       "      <td>-</td>\n",
       "      <td>Adidas</td>\n",
       "    </tr>\n",
       "    <tr>\n",
       "      <th>3</th>\n",
       "      <td>Argentina</td>\n",
       "      <td>2</td>\n",
       "      <td>Adidas</td>\n",
       "      <td>DF</td>\n",
       "      <td>19.0</td>\n",
       "      <td>1988-02-12 00:00:00</td>\n",
       "      <td>Benfica</td>\n",
       "      <td>Nicolas Otamendi</td>\n",
       "      <td>7</td>\n",
       "      <td>0</td>\n",
       "      <td>1</td>\n",
       "      <td>0.33</td>\n",
       "      <td>1.17</td>\n",
       "      <td>1.3</td>\n",
       "      <td>7.17</td>\n",
       "      <td>-</td>\n",
       "      <td>-</td>\n",
       "      <td>Nike</td>\n",
       "    </tr>\n",
       "    <tr>\n",
       "      <th>4</th>\n",
       "      <td>Argentina</td>\n",
       "      <td>2</td>\n",
       "      <td>Adidas</td>\n",
       "      <td>DF</td>\n",
       "      <td>8.0</td>\n",
       "      <td>1991-10-28 00:00:00</td>\n",
       "      <td>Sevilla</td>\n",
       "      <td>Marcos Acuna</td>\n",
       "      <td>6</td>\n",
       "      <td>0</td>\n",
       "      <td>0</td>\n",
       "      <td>1.45</td>\n",
       "      <td>0.48</td>\n",
       "      <td>2.9</td>\n",
       "      <td>7.97</td>\n",
       "      <td>-</td>\n",
       "      <td>-</td>\n",
       "      <td>Nike</td>\n",
       "    </tr>\n",
       "  </tbody>\n",
       "</table>\n",
       "</div>"
      ],
      "text/plain": [
       "  Nationality   FIFA Ranking  National Team Kit Sponsor Position  \\\n",
       "0    Argentina              2                    Adidas       GK   \n",
       "1    Argentina              2                    Adidas       GK   \n",
       "2    Argentina              2                    Adidas       GK   \n",
       "3    Argentina              2                    Adidas       DF   \n",
       "4    Argentina              2                    Adidas       DF   \n",
       "\n",
       "   National Team Jersey Number           Player DOB        Club   \\\n",
       "0                         23.0  1992-09-02 00:00:00  Aston Villa   \n",
       "1                          1.0  1986-10-16 00:00:00        River   \n",
       "2                         12.0  1992-05-20 00:00:00   Villarreal   \n",
       "3                         19.0  1988-02-12 00:00:00      Benfica   \n",
       "4                          8.0  1991-10-28 00:00:00      Sevilla   \n",
       "\n",
       "        Player Name   Appearances Goals Scored  Assists Provided   \\\n",
       "0  Emiliano Martinez            7             0                 0   \n",
       "1      Franco Armani            0             -                 -   \n",
       "2     Geronimo Rulli            0             -                 -   \n",
       "3   Nicolas Otamendi            7             0                 1   \n",
       "4       Marcos Acuna            6             0                 0   \n",
       "\n",
       "  Dribbles per 90 Interceptions per 90 Tackles per 90 Total Duels Won per 90  \\\n",
       "0               0                    0              0                   0.65   \n",
       "1               -                    -              -                      -   \n",
       "2               -                    -              -                      -   \n",
       "3            0.33                 1.17            1.3                   7.17   \n",
       "4            1.45                 0.48            2.9                   7.97   \n",
       "\n",
       "  Save Percentage Clean Sheets Brand Sponsor/Brand Used  \n",
       "0          0.4667         0.43                   Adidas  \n",
       "1               -            -                     Nike  \n",
       "2               -            -                   Adidas  \n",
       "3               -            -                     Nike  \n",
       "4               -            -                     Nike  "
      ]
     },
     "execution_count": 12,
     "metadata": {},
     "output_type": "execute_result"
    }
   ],
   "source": [
    "fifa.head()"
   ]
  },
  {
   "cell_type": "code",
   "execution_count": 25,
   "id": "8bcc3a10-83ee-4404-bf20-e7e2660e6092",
   "metadata": {},
   "outputs": [],
   "source": [
    "x = fifa['Brand Sponsor/Brand Used'].value_counts()"
   ]
  },
  {
   "cell_type": "code",
   "execution_count": 28,
   "id": "0b516ec0-7d07-462f-8664-9ce2a167abae",
   "metadata": {},
   "outputs": [
    {
     "data": {
      "text/plain": [
       "array([424, 259,  92,  14,   8,   3,   3,   2,   2,   1,   1,   1,   1,\n",
       "         1,   1])"
      ]
     },
     "execution_count": 28,
     "metadata": {},
     "output_type": "execute_result"
    }
   ],
   "source": [
    "x.values"
   ]
  },
  {
   "cell_type": "code",
   "execution_count": 43,
   "id": "df27cbab-ed74-40fd-9acb-5b6d5c20e4d2",
   "metadata": {},
   "outputs": [
    {
     "data": {
      "text/plain": [
       "[<matplotlib.lines.Line2D at 0x78c2833f6ea0>]"
      ]
     },
     "execution_count": 43,
     "metadata": {},
     "output_type": "execute_result"
    },
    {
     "data": {
      "image/png": "[encoded data removed]",
      "text/plain": [
       "<Figure size 640x480 with 1 Axes>"
      ]
     },
     "metadata": {},
     "output_type": "display_data"
    }
   ],
   "source": [
    "plt.plot( x.values , \"x\")"
   ]
  },
  {
   "cell_type": "code",
   "execution_count": 48,
   "id": "3297c9cb-f1d5-4a15-803a-08a2b0b498e7",
   "metadata": {},
   "outputs": [
    {
     "data": {
      "text/plain": [
       "array(['Adidas', 'Nike', 'Adidas', 'Nike', 'Nike', 'Nike', 'Nike', 'Nike',\n",
       "       'NIke', 'Adidas', 'Nike', 'Adidas', 'Nike', 'Adidas', 'Adidas',\n",
       "       'Adidas', 'Adidas', 'Nike', 'Adidas', 'Adidas', 'Nike', 'Adidas',\n",
       "       'Adidas', 'Adidas', 'Adidas', 'Nike', 'Nike', 'Nike', 'Puma',\n",
       "       'Adidas', 'Adidas', 'Puma', 'Nike', 'Nike', 'Nike', 'NIke',\n",
       "       'Nike ', 'Nike', 'Nike', 'Nike', 'Adidas', 'Adidas', 'Adidas',\n",
       "       'Nike', 'Puma', 'Nike', 'Puma', 'Puma', 'Nike', 'Nike', 'Nike',\n",
       "       'Adidas', 'Nike', 'Nike', 'Nike', 'Puma', 'Nike', 'Adidas',\n",
       "       'Adidas', 'Adidas', 'Adidas', 'Nike', 'Adidas', 'Nike', 'Nike',\n",
       "       'Nike', 'Adidas', 'Nike', 'Nike', 'Adidas', 'Nike', 'Nike',\n",
       "       'Adidas', 'Nike', 'Nike', 'Puma', 'Adidas', 'Nike', 'Nike', 'Nike',\n",
       "       'Adidas', 'Nike', 'Adidas', 'Nike', 'Nike', 'Nike', 'Nike', 'Puma',\n",
       "       'Adidas', 'Nike', 'Nike', 'Adidas', 'Adidas', 'Adidas', 'Nike',\n",
       "       'Nike', 'Adidas', 'Puma', 'Adidas', 'Nike', 'Adidas', 'Lotto',\n",
       "       'Nike', 'Adidas', 'Adidas', 'Nike', 'Adidas', 'Nike', 'Nike',\n",
       "       'Nike', 'Adidas', 'Nike', 'Nike', 'Nike', 'Puma', 'Nike', 'Nike',\n",
       "       'Adidas', 'Adidas', 'Adidas', 'Nike', 'Nike', 'Puma', 'Adidas',\n",
       "       'Adidas', 'Nike', 'Adidas', 'Puma', 'Adidas', 'Puma', 'Nike',\n",
       "       'Adidas', 'Under Armour', 'Adidas', 'Nike', 'Puma', 'Adidas',\n",
       "       'Nike', 'Adidas', 'Puma', 'Adidas', 'Nike', 'Nike', 'Nike',\n",
       "       'Adidas', 'Adidas', 'Nike', 'Nike', 'Nike', 'Puma', 'Nike',\n",
       "       'New Balance', 'New Balance', 'Nike', 'Nike', 'Puma', 'Puma',\n",
       "       'Adidas', 'Puma', 'Nike', 'Nike', 'Puma', 'Adidas', 'Adidas',\n",
       "       'Puma', 'Nike', 'Nike', 'Adidas', 'Nike', 'Nike', 'Adidas', 'Puma',\n",
       "       'Adidas', 'Nike', 'Nike', 'Puma', 'Adidas', 'Nike', 'Adidas',\n",
       "       'Adidas', 'Adidas', 'Puma', 'Adidas', 'Nike', 'Nike', 'Adidas',\n",
       "       'Nike', 'Adidas', 'Adidas', 'Nike', 'Adidas', 'Adidas', 'Nike',\n",
       "       'Adidas', 'Nike', 'Nike', 'Adidas', 'Adidas', 'Nike', 'Nike',\n",
       "       'Nike', 'Nike', 'Nike', 'Adidas', 'Adidas', 'Nike', 'Nike',\n",
       "       'Adidas', 'Adidas', 'Mizuno', 'Adidas', 'Nike', 'Nike', 'Nike',\n",
       "       'Puma', 'Nike', 'Adidas', 'Nike', 'Nike', 'Adidas', 'Nike', 'Nike',\n",
       "       'Nike', 'New Balance', 'Nike', 'Nike', 'Nike', 'Nike', 'Nike',\n",
       "       'Nike', 'Nike', 'Nike', 'Nike', 'Puma', 'Nike', 'Adidas', 'Nike',\n",
       "       'Adidas', 'Nike', 'Nike', 'Nike', 'Nike', 'Under Armour', 'Adidas',\n",
       "       'Nike', 'Nike', 'Nike', 'Nike', 'Adidas', 'Puma', 'Adidas', 'Nike',\n",
       "       'Nike', 'Puma', 'Adidas', 'New Balance', 'Nike', 'New Balance',\n",
       "       'Puma', 'Adidas', 'Adidas', 'Nike', 'Puma', 'Adidas', 'Adidas',\n",
       "       'Puma', 'Puma', 'Under Armour', 'Nike', 'Nike', 'Puma',\n",
       "       'New Balance', 'Adidas', 'Adidas', 'Puma', 'Mizuno', 'Nike',\n",
       "       'Nike', 'Nike', 'Nike', 'Adidas', 'Adidas', 'Adidas', 'Adidas',\n",
       "       'Adidas', 'Nike', 'Puma', 'Puma', 'Puma', 'Puma', 'Adidas', 'Nike',\n",
       "       'Puma', 'Nike', 'Adidas', 'Nike', 'Adidas', 'Adidas', 'Nike',\n",
       "       'Adidas', 'Puma', 'Nike', 'Nike', 'Adidas', 'Adidas', 'Adidas',\n",
       "       'Puma', 'Puma', 'Mizuno', 'Puma', 'Asics', 'Puma', 'Nike', 'Nike',\n",
       "       'Nike', 'Mizuno', 'Nike', 'Puma', 'Umbro', 'Puma', 'Puma',\n",
       "       'Adidas', 'Mizuno', 'Puma', 'Nike', 'Mizuno', 'Mizuno', 'Adidas',\n",
       "       'Puma', 'Nike', 'Nike', 'Adidas', 'Adidas', 'Nike', 'Nike', 'Puma',\n",
       "       'Nike', 'Nike', 'Nike', 'Mizuno', 'Mizuno', 'Mizuno', 'Nike',\n",
       "       'Mizuno', 'Nike', 'Nike', 'Mizuno', 'Nike', 'Nike', 'Nike',\n",
       "       'Mizuno', 'Adidas', 'Adidas', 'Nike', 'Nike', 'Adidas', 'Nike',\n",
       "       'Nike', 'Adidas', 'Adidas', 'Adidas', 'Adidas', 'Adidas', 'Adidas',\n",
       "       'Adidas', 'Nike', 'Nike', 'Adidas', 'Nike', 'Nike', 'Adidas',\n",
       "       'Nike', 'Adidas', 'Nike', 'Adidas', 'Adidas', 'Nike', 'Adidas',\n",
       "       'Nike', 'Puma', 'Adidas', 'Nike', 'Nike', 'Puma', 'Adidas', 'Puma',\n",
       "       'Nike', 'Nike', 'Puma', 'Nike', 'Puma', 'Puma', 'Nike', 'Puma',\n",
       "       'Nike', 'Adidas', 'Nike', 'Nike', 'Nike', 'Puma', 'Adidas', 'Puma',\n",
       "       'Nike', 'Puma', 'Nike', 'Nike', 'Nike', 'Nike', 'Nike', 'Nike',\n",
       "       'Adidas', 'Adidas', 'Adidas', 'Nike', 'Nike', 'Nike', 'Adidas',\n",
       "       'Nike', 'Nike', 'Nike', 'Nike', 'Nike', 'Adidas', 'Adidas', 'Nike',\n",
       "       'Nike', 'Nike', 'Nike', 'Nike', 'Nike', 'Adidas', 'Nike', 'Nike',\n",
       "       'Nike', 'Adidas', 'Nike', 'Adidas', 'Nike', 'Adidas', 'Nike',\n",
       "       'Adidas', 'Nike', 'Nike', 'Nike', 'Nike', 'Adidas', 'Adidas',\n",
       "       'Adidas', 'Adidas', 'Adidas', 'Nike', 'N.A', 'Nike', 'Adidas',\n",
       "       'Nike', 'Nike', 'Nike', 'Nike', 'Nike', 'Adidas', 'Adidas',\n",
       "       'Adidas', 'Adidas', 'Adidas', 'Adidas', 'Nike', 'Adidas', 'Nike',\n",
       "       'Nike', 'Nike', 'Nike', 'Adidas', 'Nike', 'Nike', 'Adidas', 'Nike',\n",
       "       'Nike', 'Adidas', 'Nike', 'Nike', 'Nike', 'Puma', 'Nike', 'Nike',\n",
       "       'Adidas', 'Nike', 'Nike', 'Nike', 'Adidas', 'Adidas', 'Nike',\n",
       "       'Adidas', 'Nike', 'Adidas', 'Puma', 'Nike', 'Nike', 'Nike', 'Nike',\n",
       "       'Puma', 'Adidas', 'Nike', 'Adidas', 'Nike', 'Adidas', 'Adidas',\n",
       "       'Adidas', 'Nike', 'Adidas', 'Adidas', 'Nike', 'Pirma', 'Pirma',\n",
       "       'Charly', 'Nike', 'Nike', 'Adidas', 'Nike', 'Nike', 'Adidas',\n",
       "       'Nike', 'Adidas', 'Nike', 'Adidas', 'Adidas', 'Nike', 'Adidas',\n",
       "       'Nike', 'Nike', 'Adidas', 'Nike', 'Nike', 'Nike', 'Nike', 'Adidas',\n",
       "       'Puma', 'Adidas', 'Adidas', 'Nike', 'Adidas', 'Nike', 'Nike',\n",
       "       'Nike', 'Adidas', 'Adidas', 'Nike', 'Nike', 'Nike', 'Adidas',\n",
       "       'Nike', 'Nike', 'Nike', 'Adidas', 'Adidas', 'Nike', 'Nike', 'Nike',\n",
       "       'Nike', 'Adidas', 'Nike', 'Nike', 'Puma', 'Adidas', 'Nike',\n",
       "       'Adidas', 'Adidas', 'Adidas', 'Adidas', 'Adidas', 'Nike', 'Nike',\n",
       "       'Adidas', 'Nike', 'Nike', 'Puma', 'Adidas', 'Nike', 'Adidas',\n",
       "       'Nike', 'Nike', 'Adidas', 'Nike', 'Nike', 'Nike', 'Adidas', 'Nike',\n",
       "       'Adidas', 'Nike', 'Nike', 'Adidas', 'Adidas', 'Nike', 'Nike',\n",
       "       'Adidas', 'Nike', 'Nike', 'Puma', 'Adidas', 'Adidas', 'Nike',\n",
       "       'Adidas', 'Nike', 'Nike', 'Adidas', 'Nike', 'Nike', 'Adidas',\n",
       "       'Nike', 'Nike', 'Mizuno', 'Nike', 'Nike', 'Adidas', 'Adidas',\n",
       "       'Adidas', 'Nike', 'Nike', 'Nike', 'Nike', 'Nike', 'Nike', 'Puma',\n",
       "       'Adidas', 'Adidas', 'Nike', 'Nike', 'Adidas', 'Adidas', 'Nike',\n",
       "       'Nike', 'Nike', 'Puma', 'Adidas', 'Nike', 'Adidas', 'Nike', 'Nike',\n",
       "       'Nike', 'Adidas', 'Adidas', 'Nike', 'Nike', 'Adidas',\n",
       "       'New Balance', 'Nike', 'Nike', 'Nike', 'Nike', 'Nike', 'Adidas',\n",
       "       'Nike', 'Nike', 'Nike', 'Adidas', 'Puma', 'Adidas', 'Nike', 'Nike',\n",
       "       'Nike', 'Nike', 'Pima', 'Nike', 'Nike', 'Nike', 'Nike', 'Nike',\n",
       "       'Nike', 'Puma', 'Nike', 'Nike', 'Nike', 'Adidas', 'Adidas', 'Nike',\n",
       "       'Nike', 'Nike', 'Nike', 'Nike', 'Nike', 'Puma', 'Adidas', 'Nike',\n",
       "       'Nike', 'Nike', 'Adidas', 'Adidas', 'Adidas', 'Nike', 'Adidas',\n",
       "       'Lotto', 'Puma', 'Adidas', 'Nike', 'Adidas', nan, 'Adidas', 'Puma',\n",
       "       'Nike', 'Puma', 'Nike', 'Puma', 'Adidas', 'Nike', 'Nike', 'Nike',\n",
       "       'Nike', 'Nike', 'Nike', 'Nike', 'Nike', 'Puma', 'Nike', 'Nike',\n",
       "       'Nike', 'Nike', 'Adidas', 'Puma', 'Nike', 'Puma', 'Nike', 'Puma',\n",
       "       'Nike', 'Nike', 'Puma', 'Nike', 'Nike', 'Adidas', 'Adidas', 'Nike',\n",
       "       'Adidas', 'Nike', 'Puma', 'Nike', 'Nike', 'Adidas', 'Nike', 'Nike',\n",
       "       'Nike', 'Adidas', 'Lotto', 'Adidas', 'Puma', 'Adidas', 'Puma',\n",
       "       'Nike', 'Nike', 'New Balance', 'Adidas', 'Nike', 'Adidas', 'Nike',\n",
       "       'Adidas', 'Puma', 'Nike', 'Puma', 'Puma', 'Nike', 'Nike', 'Nike',\n",
       "       'Adidas', 'Puma', 'Nike', 'Puma', 'Nike', 'Nike', 'Nike', 'Nike',\n",
       "       'Nike', 'Nike', 'Puma', 'Nike', 'Puma', 'Nike', 'Nike', 'Nike',\n",
       "       'Nike', 'Adidas', 'Nike', 'Nike', 'Adidas', 'Nike', 'Adidas',\n",
       "       'Puma', 'Nike', 'Adidas', 'Nike', 'Nike', 'Nike', 'Adidas', 'Nike',\n",
       "       'Adidas', 'Adidas', 'Adidas', 'Nike', 'Nike', 'Nike', 'Nike',\n",
       "       'Nike', 'Adidas', 'Nike', 'Nike', 'Adidas', 'Nike', 'Nike',\n",
       "       'Adidas', 'Nike', 'Nike', 'Nike', 'Adidas', 'Nike', 'Nike',\n",
       "       'Adidas', 'Adidas', 'Nike'], dtype=object)"
      ]
     },
     "execution_count": 48,
     "metadata": {},
     "output_type": "execute_result"
    }
   ],
   "source": [
    "fifa['Brand Sponsor/Brand Used'].values."
   ]
  },
  {
   "cell_type": "code",
   "execution_count": null,
   "id": "cdb5e49b-c40d-4e9b-9919-fee731cb8e3b",
   "metadata": {},
   "outputs": [],
   "source": []
  }
 ],
 "metadata": {
  "kernelspec": {
   "display_name": "Python 3 (ipykernel)",
   "language": "python",
   "name": "python3"
  },
  "language_info": {
   "codemirror_mode": {
    "name": "ipython",
    "version": 3
   },
   "file_extension": ".py",
   "mimetype": "text/x-python",
   "name": "python",
   "nbconvert_exporter": "python",
   "pygments_lexer": "ipython3",
   "version": "3.12.3"
  }
 },
 "nbformat": 4,
 "nbformat_minor": 5
}
