{
 "cells": [
  {
   "cell_type": "code",
   "execution_count": 2,
   "id": "411fd509-2b16-4896-8d08-27fb1d7cd4db",
   "metadata": {},
   "outputs": [],
   "source": [
    "import numpy as np\n",
    "import pandas as pd\n",
    "import matplotlib.pyplot as plt"
   ]
  },
  {
   "cell_type": "code",
   "execution_count": 3,
   "id": "b9fa57a8-6626-4e45-940b-fc1701bf8540",
   "metadata": {},
   "outputs": [
    {
     "data": {
      "text/plain": [
       "'/home/abdulrahman/env/Notebook/Data Mining/Python Lab - 2'"
      ]
     },
     "execution_count": 3,
     "metadata": {},
     "output_type": "execute_result"
    }
   ],
   "source": [
    "import os\n",
    "os.getcwd()"
   ]
  },
  {
   "cell_type": "code",
   "execution_count": 4,
   "id": "05edbb05-247a-48b6-9cfe-ebc72cf0ccdf",
   "metadata": {},
   "outputs": [],
   "source": [
    "titanic =pd.read_excel(\"titanic.xlsx\")"
   ]
  },
  {
   "cell_type": "code",
   "execution_count": 5,
   "id": "89c33b3e-1159-4b1e-a173-1769f86d384d",
   "metadata": {},
   "outputs": [
    {
     "data": {
      "text/html": [
       "<div>\n",
       "<style scoped>\n",
       "    .dataframe tbody tr th:only-of-type {\n",
       "        vertical-align: middle;\n",
       "    }\n",
       "\n",
       "    .dataframe tbody tr th {\n",
       "        vertical-align: top;\n",
       "    }\n",
       "\n",
       "    .dataframe thead th {\n",
       "        text-align: right;\n",
       "    }\n",
       "</style>\n",
       "<table border=\"1\" class=\"dataframe\">\n",
       "  <thead>\n",
       "    <tr style=\"text-align: right;\">\n",
       "      <th></th>\n",
       "      <th>pclass</th>\n",
       "      <th>age</th>\n",
       "      <th>sibsp</th>\n",
       "      <th>parch</th>\n",
       "      <th>fare</th>\n",
       "      <th>survived</th>\n",
       "    </tr>\n",
       "  </thead>\n",
       "  <tbody>\n",
       "    <tr>\n",
       "      <th>count</th>\n",
       "      <td>1309.000000</td>\n",
       "      <td>1046.000000</td>\n",
       "      <td>1309.000000</td>\n",
       "      <td>1309.000000</td>\n",
       "      <td>1308.000000</td>\n",
       "      <td>1309.000000</td>\n",
       "    </tr>\n",
       "    <tr>\n",
       "      <th>mean</th>\n",
       "      <td>2.294882</td>\n",
       "      <td>29.881135</td>\n",
       "      <td>0.549274</td>\n",
       "      <td>0.385027</td>\n",
       "      <td>33.295479</td>\n",
       "      <td>0.381971</td>\n",
       "    </tr>\n",
       "    <tr>\n",
       "      <th>std</th>\n",
       "      <td>0.837836</td>\n",
       "      <td>14.413500</td>\n",
       "      <td>2.211672</td>\n",
       "      <td>0.865560</td>\n",
       "      <td>51.758668</td>\n",
       "      <td>0.486055</td>\n",
       "    </tr>\n",
       "    <tr>\n",
       "      <th>min</th>\n",
       "      <td>1.000000</td>\n",
       "      <td>0.166700</td>\n",
       "      <td>-3.000000</td>\n",
       "      <td>0.000000</td>\n",
       "      <td>0.000000</td>\n",
       "      <td>0.000000</td>\n",
       "    </tr>\n",
       "    <tr>\n",
       "      <th>25%</th>\n",
       "      <td>2.000000</td>\n",
       "      <td>21.000000</td>\n",
       "      <td>0.000000</td>\n",
       "      <td>0.000000</td>\n",
       "      <td>7.895800</td>\n",
       "      <td>0.000000</td>\n",
       "    </tr>\n",
       "    <tr>\n",
       "      <th>50%</th>\n",
       "      <td>3.000000</td>\n",
       "      <td>28.000000</td>\n",
       "      <td>0.000000</td>\n",
       "      <td>0.000000</td>\n",
       "      <td>14.454200</td>\n",
       "      <td>0.000000</td>\n",
       "    </tr>\n",
       "    <tr>\n",
       "      <th>75%</th>\n",
       "      <td>3.000000</td>\n",
       "      <td>39.000000</td>\n",
       "      <td>1.000000</td>\n",
       "      <td>0.000000</td>\n",
       "      <td>31.275000</td>\n",
       "      <td>1.000000</td>\n",
       "    </tr>\n",
       "    <tr>\n",
       "      <th>max</th>\n",
       "      <td>3.000000</td>\n",
       "      <td>80.000000</td>\n",
       "      <td>71.000000</td>\n",
       "      <td>9.000000</td>\n",
       "      <td>512.329200</td>\n",
       "      <td>1.000000</td>\n",
       "    </tr>\n",
       "  </tbody>\n",
       "</table>\n",
       "</div>"
      ],
      "text/plain": [
       "            pclass          age        sibsp        parch         fare  \\\n",
       "count  1309.000000  1046.000000  1309.000000  1309.000000  1308.000000   \n",
       "mean      2.294882    29.881135     0.549274     0.385027    33.295479   \n",
       "std       0.837836    14.413500     2.211672     0.865560    51.758668   \n",
       "min       1.000000     0.166700    -3.000000     0.000000     0.000000   \n",
       "25%       2.000000    21.000000     0.000000     0.000000     7.895800   \n",
       "50%       3.000000    28.000000     0.000000     0.000000    14.454200   \n",
       "75%       3.000000    39.000000     1.000000     0.000000    31.275000   \n",
       "max       3.000000    80.000000    71.000000     9.000000   512.329200   \n",
       "\n",
       "          survived  \n",
       "count  1309.000000  \n",
       "mean      0.381971  \n",
       "std       0.486055  \n",
       "min       0.000000  \n",
       "25%       0.000000  \n",
       "50%       0.000000  \n",
       "75%       1.000000  \n",
       "max       1.000000  "
      ]
     },
     "execution_count": 5,
     "metadata": {},
     "output_type": "execute_result"
    }
   ],
   "source": [
    "titanic.describe()"
   ]
  },
  {
   "cell_type": "code",
   "execution_count": 6,
   "id": "e88b9d0c-192a-483b-921d-f091059605ec",
   "metadata": {},
   "outputs": [
    {
     "data": {
      "text/html": [
       "<div>\n",
       "<style scoped>\n",
       "    .dataframe tbody tr th:only-of-type {\n",
       "        vertical-align: middle;\n",
       "    }\n",
       "\n",
       "    .dataframe tbody tr th {\n",
       "        vertical-align: top;\n",
       "    }\n",
       "\n",
       "    .dataframe thead th {\n",
       "        text-align: right;\n",
       "    }\n",
       "</style>\n",
       "<table border=\"1\" class=\"dataframe\">\n",
       "  <thead>\n",
       "    <tr style=\"text-align: right;\">\n",
       "      <th></th>\n",
       "      <th>pclass</th>\n",
       "      <th>name</th>\n",
       "      <th>gender</th>\n",
       "      <th>age</th>\n",
       "      <th>sibsp</th>\n",
       "      <th>parch</th>\n",
       "      <th>ticket</th>\n",
       "      <th>fare</th>\n",
       "      <th>cabin</th>\n",
       "      <th>embarked</th>\n",
       "      <th>home.dest</th>\n",
       "      <th>survived</th>\n",
       "    </tr>\n",
       "  </thead>\n",
       "  <tbody>\n",
       "    <tr>\n",
       "      <th>0</th>\n",
       "      <td>1</td>\n",
       "      <td>Allen, Miss. Elisabeth Walton</td>\n",
       "      <td>female</td>\n",
       "      <td>29.0000</td>\n",
       "      <td>0</td>\n",
       "      <td>0</td>\n",
       "      <td>24160</td>\n",
       "      <td>211.3375</td>\n",
       "      <td>B5</td>\n",
       "      <td>S</td>\n",
       "      <td>St Louis, MO</td>\n",
       "      <td>1</td>\n",
       "    </tr>\n",
       "    <tr>\n",
       "      <th>1</th>\n",
       "      <td>1</td>\n",
       "      <td>Allison, Master. Hudson Trevor</td>\n",
       "      <td>male</td>\n",
       "      <td>0.9167</td>\n",
       "      <td>1</td>\n",
       "      <td>2</td>\n",
       "      <td>113781</td>\n",
       "      <td>151.5500</td>\n",
       "      <td>C22 C26</td>\n",
       "      <td>S</td>\n",
       "      <td>Montreal, PQ / Chesterville, ON</td>\n",
       "      <td>1</td>\n",
       "    </tr>\n",
       "    <tr>\n",
       "      <th>2</th>\n",
       "      <td>1</td>\n",
       "      <td>Allison, Miss. Helen Loraine</td>\n",
       "      <td>female</td>\n",
       "      <td>2.0000</td>\n",
       "      <td>1</td>\n",
       "      <td>2</td>\n",
       "      <td>113781</td>\n",
       "      <td>151.5500</td>\n",
       "      <td>C22 C26</td>\n",
       "      <td>S</td>\n",
       "      <td>Montreal, PQ / Chesterville, ON</td>\n",
       "      <td>0</td>\n",
       "    </tr>\n",
       "    <tr>\n",
       "      <th>3</th>\n",
       "      <td>1</td>\n",
       "      <td>Allison, Mr. Hudson Joshua Creighton</td>\n",
       "      <td>male</td>\n",
       "      <td>30.0000</td>\n",
       "      <td>1</td>\n",
       "      <td>2</td>\n",
       "      <td>113781</td>\n",
       "      <td>151.5500</td>\n",
       "      <td>C22 C26</td>\n",
       "      <td>S</td>\n",
       "      <td>Montreal, PQ / Chesterville, ON</td>\n",
       "      <td>0</td>\n",
       "    </tr>\n",
       "    <tr>\n",
       "      <th>4</th>\n",
       "      <td>1</td>\n",
       "      <td>Allison, Mrs. Hudson J C (Bessie Waldo Daniels)</td>\n",
       "      <td>female</td>\n",
       "      <td>25.0000</td>\n",
       "      <td>1</td>\n",
       "      <td>2</td>\n",
       "      <td>113781</td>\n",
       "      <td>151.5500</td>\n",
       "      <td>C22 C26</td>\n",
       "      <td>S</td>\n",
       "      <td>Montreal, PQ / Chesterville, ON</td>\n",
       "      <td>0</td>\n",
       "    </tr>\n",
       "  </tbody>\n",
       "</table>\n",
       "</div>"
      ],
      "text/plain": [
       "   pclass                                             name  gender      age  \\\n",
       "0       1                    Allen, Miss. Elisabeth Walton  female  29.0000   \n",
       "1       1                   Allison, Master. Hudson Trevor    male   0.9167   \n",
       "2       1                     Allison, Miss. Helen Loraine  female   2.0000   \n",
       "3       1             Allison, Mr. Hudson Joshua Creighton    male  30.0000   \n",
       "4       1  Allison, Mrs. Hudson J C (Bessie Waldo Daniels)  female  25.0000   \n",
       "\n",
       "   sibsp  parch  ticket      fare    cabin embarked  \\\n",
       "0      0      0   24160  211.3375       B5        S   \n",
       "1      1      2  113781  151.5500  C22 C26        S   \n",
       "2      1      2  113781  151.5500  C22 C26        S   \n",
       "3      1      2  113781  151.5500  C22 C26        S   \n",
       "4      1      2  113781  151.5500  C22 C26        S   \n",
       "\n",
       "                         home.dest  survived  \n",
       "0                     St Louis, MO         1  \n",
       "1  Montreal, PQ / Chesterville, ON         1  \n",
       "2  Montreal, PQ / Chesterville, ON         0  \n",
       "3  Montreal, PQ / Chesterville, ON         0  \n",
       "4  Montreal, PQ / Chesterville, ON         0  "
      ]
     },
     "execution_count": 6,
     "metadata": {},
     "output_type": "execute_result"
    }
   ],
   "source": [
    "titanic.head()"
   ]
  },
  {
   "cell_type": "code",
   "execution_count": 15,
   "id": "fc79bc07-69aa-422b-b6f7-c699815cf994",
   "metadata": {},
   "outputs": [],
   "source": [
    "bilet_sinifi=titanic['pclass'].value_counts()"
   ]
  },
  {
   "cell_type": "code",
   "execution_count": 17,
   "id": "630646a1-08e6-49d8-82d8-bacf6161f3b6",
   "metadata": {},
   "outputs": [],
   "source": [
    "toplam_yolucu = len(titanic)"
   ]
  },
  {
   "cell_type": "code",
   "execution_count": 18,
   "id": "3aae8568-adbf-42df-8d80-b5c2fcc95333",
   "metadata": {},
   "outputs": [],
   "source": [
    "bos_sayisi = titanic['pclass'].isnull().sum()"
   ]
  },
  {
   "cell_type": "code",
   "execution_count": 22,
   "id": "7fc475e6-ae35-4510-b070-3847aad72cb2",
   "metadata": {},
   "outputs": [
    {
     "data": {
      "text/plain": [
       "0"
      ]
     },
     "execution_count": 22,
     "metadata": {},
     "output_type": "execute_result"
    }
   ],
   "source": [
    "bos_sayisi = 0\n",
    "for i in range(toplam_yolucu):\n",
    "    if pd.isnull(titanic['pclass'].iloc[i]):  \n",
    "        bos_sayisi += 1\n",
    "\n",
    "bos_sayisi  "
   ]
  },
  {
   "cell_type": "code",
   "execution_count": 23,
   "id": "b4e8a7fb-3fda-444b-ab84-9731ddbf0250",
   "metadata": {},
   "outputs": [],
   "source": [
    "t=0\n",
    "for i in range(toplam_yolucu):\n",
    "    if titanic['pclass'][i]==3 and titanic['survived'][i]==1:\n",
    "        t+=1"
   ]
  },
  {
   "cell_type": "code",
   "execution_count": 47,
   "id": "8ad2e39b-fae2-4908-87b0-efa8dcf9a1e5",
   "metadata": {},
   "outputs": [],
   "source": [
    "t=0\n",
    "for i in range(toplam_yolucu):\n",
    "    if titanic['gender'][i]=='female' and titanic['survived'][i]==1:\n",
    "        t+=1"
   ]
  },
  {
   "cell_type": "code",
   "execution_count": 39,
   "id": "edd2a622-c0f1-40fa-89c4-132599b0d915",
   "metadata": {},
   "outputs": [],
   "source": [
    "t=0\n",
    "for i in range(toplam_yolucu):\n",
    "    if titanic['gender'][i]=='male' and titanic['survived'][i]==1:\n",
    "        t+=1"
   ]
  },
  {
   "cell_type": "code",
   "execution_count": 40,
   "id": "9a0abe72-94a0-432d-9012-bc2d73036f32",
   "metadata": {},
   "outputs": [
    {
     "name": "stdout",
     "output_type": "stream",
     "text": [
      "ucuncu sinifi yolcularin % 23.0'u yasmisitir\n"
     ]
    }
   ],
   "source": [
    "print(f'ucuncu sinifi yolcularin % {np.ceil(t/709*100)}\\'u yasmisitir')"
   ]
  },
  {
   "cell_type": "code",
   "execution_count": 48,
   "id": "38e7f922-b646-41ee-9369-f7380811b3d3",
   "metadata": {},
   "outputs": [],
   "source": [
    "toplam_kadin_sayisi=len(np.where(titanic['gender']=='female')[0])"
   ]
  },
  {
   "cell_type": "code",
   "execution_count": 44,
   "id": "baa30f33-4d03-4592-a4ef-e01d475f2023",
   "metadata": {},
   "outputs": [],
   "source": [
    "toplam_kadin_sayisi=len(np.where(titanic['gender']=='male')[0])"
   ]
  },
  {
   "cell_type": "code",
   "execution_count": 49,
   "id": "b5bb57d9-ad9e-4ba9-8e09-004511ba7113",
   "metadata": {},
   "outputs": [
    {
     "name": "stdout",
     "output_type": "stream",
     "text": [
      "kadinlerin sinifi yolcularin % 73.0'u yasmisitir\n"
     ]
    }
   ],
   "source": [
    "print(f'kadinlerin sinifi yolcularin % {np.ceil(t/466*100)}\\'u yasmisitir')"
   ]
  },
  {
   "cell_type": "code",
   "execution_count": 51,
   "id": "81e088c9-79e6-4ee3-b250-36ed9ee96e41",
   "metadata": {},
   "outputs": [
    {
     "name": "stdout",
     "output_type": "stream",
     "text": [
      "erkekin sinifi yolcularin % 41.0'u yasmisitir\n"
     ]
    }
   ],
   "source": [
    "print(f'erkekin sinifi yolcularin % {np.ceil(t/843*100)}\\'u yasmisitir')"
   ]
  },
  {
   "cell_type": "code",
   "execution_count": 61,
   "id": "c9dbe7fc-2845-476f-a650-f88ad4f59547",
   "metadata": {},
   "outputs": [
    {
     "data": {
      "text/plain": [
       "array([0., 1., 0., ..., 1., 1., 1.])"
      ]
     },
     "execution_count": 61,
     "metadata": {},
     "output_type": "execute_result"
    }
   ],
   "source": [
    "toplam_yolcu_sayisi = len(titanic)\n",
    "cinsiyet = np.zeros(toplam_yolcu_sayisi)\n",
    "cinsiyet[np.where(titanic['gender'] == 'male')[0]] = 1\n",
    "cinsiyet "
   ]
  },
  {
   "cell_type": "code",
   "execution_count": 65,
   "id": "27c06e19-bc3d-4526-bb41-442d5ee994a5",
   "metadata": {},
   "outputs": [
    {
     "data": {
      "text/plain": [
       "array([29.        , 29.88113451,  2.        , ..., 26.5       ,\n",
       "       27.        , 29.        ])"
      ]
     },
     "execution_count": 65,
     "metadata": {},
     "output_type": "execute_result"
    }
   ],
   "source": [
    "ort_yas = titanic['age'].mean()\n",
    "\n",
    "yas = np.zeros(toplam_yolcu_sayisi)\n",
    "\n",
    "for i in range(toplam_yolcu_sayisi):\n",
    "    if np.isnan(titanic['age'].iloc[i]) or titanic['age'].iloc[i] < 1 or titanic['age'].iloc[i] > 100:\n",
    "        yas[i] = ort_yas\n",
    "    else:\n",
    "        yas[i] = titanic['age'].iloc[i]\n",
    "\n",
    "yas\n"
   ]
  },
  {
   "cell_type": "code",
   "execution_count": 66,
   "id": "90fa7844-07ee-46f7-bb2a-ddc016893f4b",
   "metadata": {},
   "outputs": [],
   "source": [
    "yas=np.reshape(yas,(toplam_yolcu_sayisi,1))"
   ]
  },
  {
   "cell_type": "code",
   "execution_count": 67,
   "id": "3aa9de9c-80ce-435e-9869-0efce653e73c",
   "metadata": {},
   "outputs": [],
   "source": [
    "makul_kardes_sayisi=[]\n",
    "for i in range(toplam_yolcu_sayisi):\n",
    "        if titanic['sibsp'][i]>0 and titanic['sibsp'][i]<8:\n",
    "            makul_kardes_sayisi.append(titanic['sibsp'][i])"
   ]
  },
  {
   "cell_type": "code",
   "execution_count": 68,
   "id": "564d004b-de02-44eb-92f2-68bd967ab73d",
   "metadata": {},
   "outputs": [
    {
     "data": {
      "text/plain": [
       "array([29.88113451, 29.88113451, 29.88113451, ..., 29.88113451,\n",
       "       29.88113451, 29.88113451])"
      ]
     },
     "execution_count": 68,
     "metadata": {},
     "output_type": "execute_result"
    }
   ],
   "source": [
    "kardes=np.zeros(toplam_yolcu_sayisi)\n",
    "for i in range(toplam_yolcu_sayisi):\n",
    "    if np.isnan(titanic['sibsp'].iloc[i]) or titanic['sibsp'].iloc[i] >=0 or titanic['sibsp'].iloc[i] < 8:\n",
    "        kardes[i] = ort_yas\n",
    "    else:\n",
    "        kardes[i] = titanic['sibsp'].iloc[i]\n",
    "\n",
    "kardes"
   ]
  },
  {
   "cell_type": "code",
   "execution_count": 69,
   "id": "3069a681-3fcb-44eb-9b99-ed730ec311fe",
   "metadata": {},
   "outputs": [],
   "source": [
    "ucretler=[]\n",
    "for i in range(toplam_yolcu_sayisi):\n",
    "    if not np.isnan(titanic['fare'][i]):\n",
    "        ucretler.append(titanic['fare'][i])"
   ]
  },
  {
   "cell_type": "code",
   "execution_count": 70,
   "id": "cb558894-7d44-4e1a-8db2-e98d6cf581b0",
   "metadata": {},
   "outputs": [],
   "source": [
    "max_makul_ucret=np.mean(ucretler)+3*np.std(ucretler)"
   ]
  },
  {
   "cell_type": "code",
   "execution_count": 73,
   "id": "ef448888-bd1a-4ad1-b944-0f7dac67c924",
   "metadata": {},
   "outputs": [
    {
     "data": {
      "text/plain": [
       "np.float64(188.51211637875963)"
      ]
     },
     "execution_count": 73,
     "metadata": {},
     "output_type": "execute_result"
    }
   ],
   "source": [
    "max_makul_ucret"
   ]
  },
  {
   "cell_type": "code",
   "execution_count": 75,
   "id": "0ad7d22d-8467-466d-b43e-aa8a5ee1c695",
   "metadata": {},
   "outputs": [
    {
     "ename": "NameError",
     "evalue": "name 'data' is not defined",
     "output_type": "error",
     "traceback": [
      "\u001b[0;31m---------------------------------------------------------------------------\u001b[0m",
      "\u001b[0;31mNameError\u001b[0m                                 Traceback (most recent call last)",
      "Cell \u001b[0;32mIn[75], line 5\u001b[0m\n\u001b[1;32m      2\u001b[0m ucret \u001b[38;5;241m=\u001b[39m np\u001b[38;5;241m.\u001b[39mzeros(toplam_yolcu_sayisi)\n\u001b[1;32m      4\u001b[0m \u001b[38;5;28;01mfor\u001b[39;00m i \u001b[38;5;129;01min\u001b[39;00m \u001b[38;5;28mrange\u001b[39m(toplam_yolcu_sayisi):\n\u001b[0;32m----> 5\u001b[0m     \u001b[38;5;28;01mif\u001b[39;00m np\u001b[38;5;241m.\u001b[39misnan(\u001b[43mdata\u001b[49m[\u001b[38;5;124m'\u001b[39m\u001b[38;5;124mfare\u001b[39m\u001b[38;5;124m'\u001b[39m]\u001b[38;5;241m.\u001b[39miloc[i]) \u001b[38;5;129;01mor\u001b[39;00m data[\u001b[38;5;124m'\u001b[39m\u001b[38;5;124mfare\u001b[39m\u001b[38;5;124m'\u001b[39m]\u001b[38;5;241m.\u001b[39miloc[i] \u001b[38;5;241m>\u001b[39m max_makul_ucret:\n\u001b[1;32m      6\u001b[0m         ucret[i] \u001b[38;5;241m=\u001b[39m data[\u001b[38;5;124m'\u001b[39m\u001b[38;5;124mfare\u001b[39m\u001b[38;5;124m'\u001b[39m]\u001b[38;5;241m.\u001b[39mmean()  \u001b[38;5;66;03m# Replace with the mean fare\u001b[39;00m\n\u001b[1;32m      7\u001b[0m     \u001b[38;5;28;01melse\u001b[39;00m:\n",
      "\u001b[0;31mNameError\u001b[0m: name 'data' is not defined"
     ]
    }
   ],
   "source": [
    "ucret = np.zeros(toplam_yolcu_sayisi)\n",
    "for i in range(toplam_yolcu_sayisi):\n",
    "    if np.isnan(data['fare'].iloc[i]) or data['fare'].iloc[i] > max_makul_ucret:\n",
    "        ucret[i] = data['fare'].mean()  \n",
    "    else:\n",
    "        ucret[i] = data['fare'].iloc[i]\n",
    "\n",
    "ucret"
   ]
  },
  {
   "cell_type": "code",
   "execution_count": null,
   "id": "f17cba37-9887-4e53-a5fb-fd4582d8d577",
   "metadata": {},
   "outputs": [],
   "source": []
  }
 ],
 "metadata": {
  "kernelspec": {
   "display_name": "Python 3 (ipykernel)",
   "language": "python",
   "name": "python3"
  },
  "language_info": {
   "codemirror_mode": {
    "name": "ipython",
    "version": 3
   },
   "file_extension": ".py",
   "mimetype": "text/x-python",
   "name": "python",
   "nbconvert_exporter": "python",
   "pygments_lexer": "ipython3",
   "version": "3.12.3"
  }
 },
 "nbformat": 4,
 "nbformat_minor": 5
}
