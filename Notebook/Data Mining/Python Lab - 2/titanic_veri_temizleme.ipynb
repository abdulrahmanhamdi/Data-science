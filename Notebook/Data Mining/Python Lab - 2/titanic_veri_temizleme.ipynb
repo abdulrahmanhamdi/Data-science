{
 "cells": [
  {
   "cell_type": "code",
   "execution_count": 1,
   "metadata": {
    "id": "1rHx_xQOvyxH"
   },
   "outputs": [],
   "source": [
    "import numpy as np\n",
    "import pandas as pd\n",
    "import matplotlib.pyplot as plt"
   ]
  },
  {
   "cell_type": "code",
   "execution_count": 2,
   "metadata": {
    "id": "5YEcIel2wNfO"
   },
   "outputs": [],
   "source": [
    "data=pd.read_excel(\"titanic.xlsx\")"
   ]
  },
  {
   "cell_type": "code",
   "execution_count": 3,
   "metadata": {
    "colab": {
     "base_uri": "https://localhost:8080/",
     "height": 539
    },
    "id": "443V5NaOwRwP",
    "outputId": "2e23a244-554c-4047-837d-80c6baca1184"
   },
   "outputs": [
    {
     "data": {
      "text/html": [
       "<div>\n",
       "<style scoped>\n",
       "    .dataframe tbody tr th:only-of-type {\n",
       "        vertical-align: middle;\n",
       "    }\n",
       "\n",
       "    .dataframe tbody tr th {\n",
       "        vertical-align: top;\n",
       "    }\n",
       "\n",
       "    .dataframe thead th {\n",
       "        text-align: right;\n",
       "    }\n",
       "</style>\n",
       "<table border=\"1\" class=\"dataframe\">\n",
       "  <thead>\n",
       "    <tr style=\"text-align: right;\">\n",
       "      <th></th>\n",
       "      <th>pclass</th>\n",
       "      <th>name</th>\n",
       "      <th>gender</th>\n",
       "      <th>age</th>\n",
       "      <th>sibsp</th>\n",
       "      <th>parch</th>\n",
       "      <th>ticket</th>\n",
       "      <th>fare</th>\n",
       "      <th>cabin</th>\n",
       "      <th>embarked</th>\n",
       "      <th>home.dest</th>\n",
       "      <th>survived</th>\n",
       "    </tr>\n",
       "  </thead>\n",
       "  <tbody>\n",
       "    <tr>\n",
       "      <th>0</th>\n",
       "      <td>1</td>\n",
       "      <td>Allen, Miss. Elisabeth Walton</td>\n",
       "      <td>female</td>\n",
       "      <td>29.0000</td>\n",
       "      <td>0</td>\n",
       "      <td>0</td>\n",
       "      <td>24160</td>\n",
       "      <td>211.3375</td>\n",
       "      <td>B5</td>\n",
       "      <td>S</td>\n",
       "      <td>St Louis, MO</td>\n",
       "      <td>1</td>\n",
       "    </tr>\n",
       "    <tr>\n",
       "      <th>1</th>\n",
       "      <td>1</td>\n",
       "      <td>Allison, Master. Hudson Trevor</td>\n",
       "      <td>male</td>\n",
       "      <td>0.9167</td>\n",
       "      <td>1</td>\n",
       "      <td>2</td>\n",
       "      <td>113781</td>\n",
       "      <td>151.5500</td>\n",
       "      <td>C22 C26</td>\n",
       "      <td>S</td>\n",
       "      <td>Montreal, PQ / Chesterville, ON</td>\n",
       "      <td>1</td>\n",
       "    </tr>\n",
       "    <tr>\n",
       "      <th>2</th>\n",
       "      <td>1</td>\n",
       "      <td>Allison, Miss. Helen Loraine</td>\n",
       "      <td>female</td>\n",
       "      <td>2.0000</td>\n",
       "      <td>1</td>\n",
       "      <td>2</td>\n",
       "      <td>113781</td>\n",
       "      <td>151.5500</td>\n",
       "      <td>C22 C26</td>\n",
       "      <td>S</td>\n",
       "      <td>Montreal, PQ / Chesterville, ON</td>\n",
       "      <td>0</td>\n",
       "    </tr>\n",
       "    <tr>\n",
       "      <th>3</th>\n",
       "      <td>1</td>\n",
       "      <td>Allison, Mr. Hudson Joshua Creighton</td>\n",
       "      <td>male</td>\n",
       "      <td>30.0000</td>\n",
       "      <td>1</td>\n",
       "      <td>2</td>\n",
       "      <td>113781</td>\n",
       "      <td>151.5500</td>\n",
       "      <td>C22 C26</td>\n",
       "      <td>S</td>\n",
       "      <td>Montreal, PQ / Chesterville, ON</td>\n",
       "      <td>0</td>\n",
       "    </tr>\n",
       "    <tr>\n",
       "      <th>4</th>\n",
       "      <td>1</td>\n",
       "      <td>Allison, Mrs. Hudson J C (Bessie Waldo Daniels)</td>\n",
       "      <td>female</td>\n",
       "      <td>25.0000</td>\n",
       "      <td>1</td>\n",
       "      <td>2</td>\n",
       "      <td>113781</td>\n",
       "      <td>151.5500</td>\n",
       "      <td>C22 C26</td>\n",
       "      <td>S</td>\n",
       "      <td>Montreal, PQ / Chesterville, ON</td>\n",
       "      <td>0</td>\n",
       "    </tr>\n",
       "  </tbody>\n",
       "</table>\n",
       "</div>"
      ],
      "text/plain": [
       "   pclass                                             name  gender      age  \\\n",
       "0       1                    Allen, Miss. Elisabeth Walton  female  29.0000   \n",
       "1       1                   Allison, Master. Hudson Trevor    male   0.9167   \n",
       "2       1                     Allison, Miss. Helen Loraine  female   2.0000   \n",
       "3       1             Allison, Mr. Hudson Joshua Creighton    male  30.0000   \n",
       "4       1  Allison, Mrs. Hudson J C (Bessie Waldo Daniels)  female  25.0000   \n",
       "\n",
       "   sibsp  parch  ticket      fare    cabin embarked  \\\n",
       "0      0      0   24160  211.3375       B5        S   \n",
       "1      1      2  113781  151.5500  C22 C26        S   \n",
       "2      1      2  113781  151.5500  C22 C26        S   \n",
       "3      1      2  113781  151.5500  C22 C26        S   \n",
       "4      1      2  113781  151.5500  C22 C26        S   \n",
       "\n",
       "                         home.dest  survived  \n",
       "0                     St Louis, MO         1  \n",
       "1  Montreal, PQ / Chesterville, ON         1  \n",
       "2  Montreal, PQ / Chesterville, ON         0  \n",
       "3  Montreal, PQ / Chesterville, ON         0  \n",
       "4  Montreal, PQ / Chesterville, ON         0  "
      ]
     },
     "execution_count": 3,
     "metadata": {},
     "output_type": "execute_result"
    }
   ],
   "source": [
    "data.head()"
   ]
  },
  {
   "cell_type": "code",
   "execution_count": 4,
   "metadata": {
    "id": "9OgbSH0gwUJW"
   },
   "outputs": [],
   "source": [
    "bilet_sinifi=data['pclass']"
   ]
  },
  {
   "cell_type": "code",
   "execution_count": 5,
   "metadata": {
    "colab": {
     "base_uri": "https://localhost:8080/",
     "height": 209
    },
    "id": "AZYQY5-XyPUx",
    "outputId": "d99c7225-21cf-4c8c-9026-fdf4e670f939"
   },
   "outputs": [
    {
     "data": {
      "text/plain": [
       "pclass\n",
       "3    709\n",
       "1    323\n",
       "2    277\n",
       "Name: count, dtype: int64"
      ]
     },
     "execution_count": 5,
     "metadata": {},
     "output_type": "execute_result"
    }
   ],
   "source": [
    "bilet_sinifi.value_counts()"
   ]
  },
  {
   "cell_type": "code",
   "execution_count": 6,
   "metadata": {
    "colab": {
     "base_uri": "https://localhost:8080/"
    },
    "id": "MGswVemvyoDM",
    "outputId": "39b017a9-ebef-4d35-f3af-27dedc866b96"
   },
   "outputs": [
    {
     "name": "stdout",
     "output_type": "stream",
     "text": [
      "1309\n"
     ]
    }
   ],
   "source": [
    "toplam_yolcu_sayisi=data.shape[0]\n",
    "print(toplam_yolcu_sayisi)"
   ]
  },
  {
   "cell_type": "code",
   "execution_count": 7,
   "metadata": {
    "colab": {
     "base_uri": "https://localhost:8080/",
     "height": 209
    },
    "id": "6eOtYWjOy0Ti",
    "outputId": "d8d29a93-e87b-4961-8d23-8b58daa229de"
   },
   "outputs": [
    {
     "data": {
      "text/plain": [
       "pclass\n",
       "3    0.541635\n",
       "1    0.246753\n",
       "2    0.211612\n",
       "Name: proportion, dtype: float64"
      ]
     },
     "execution_count": 7,
     "metadata": {},
     "output_type": "execute_result"
    }
   ],
   "source": [
    "bilet_sinifi.value_counts('1')"
   ]
  },
  {
   "cell_type": "code",
   "execution_count": 8,
   "metadata": {
    "colab": {
     "base_uri": "https://localhost:8080/"
    },
    "id": "q114LKU6y71b",
    "outputId": "334f9043-bc27-4dd0-e43e-48377f9ed380"
   },
   "outputs": [
    {
     "data": {
      "text/plain": [
       "True"
      ]
     },
     "execution_count": 8,
     "metadata": {},
     "output_type": "execute_result"
    }
   ],
   "source": [
    "709+323+277==toplam_yolcu_sayisi"
   ]
  },
  {
   "cell_type": "code",
   "execution_count": 9,
   "metadata": {
    "id": "Iku6N1iRzDcg"
   },
   "outputs": [],
   "source": [
    "bos_sayisi=0\n",
    "for i in range(toplam_yolcu_sayisi):\n",
    "  if  bilet_sinifi[i] is None:\n",
    "    bos_sayisi+=1"
   ]
  },
  {
   "cell_type": "code",
   "execution_count": 10,
   "metadata": {
    "id": "_539GfD_zRW1"
   },
   "outputs": [],
   "source": [
    "bos_sayisi=0\n",
    "for i in range(toplam_yolcu_sayisi):\n",
    "  if  np.isnan(bilet_sinifi[i]):\n",
    "    bos_sayisi+=1"
   ]
  },
  {
   "cell_type": "code",
   "execution_count": 11,
   "metadata": {
    "colab": {
     "base_uri": "https://localhost:8080/"
    },
    "id": "fuTQHkSPzbCg",
    "outputId": "5e8a89c8-5aaf-4dfb-ebb3-500e2fa49e88"
   },
   "outputs": [
    {
     "data": {
      "text/plain": [
       "np.int64(0)"
      ]
     },
     "execution_count": 11,
     "metadata": {},
     "output_type": "execute_result"
    }
   ],
   "source": [
    "bilet_sinifi.isna().sum()"
   ]
  },
  {
   "cell_type": "code",
   "execution_count": 12,
   "metadata": {
    "colab": {
     "base_uri": "https://localhost:8080/",
     "height": 204
    },
    "id": "YMd2dQzCzg7l",
    "outputId": "c5fae2a3-8c14-43a1-85e2-356fb9f3a855"
   },
   "outputs": [
    {
     "data": {
      "text/plain": [
       "pandas.core.series.Series"
      ]
     },
     "execution_count": 12,
     "metadata": {},
     "output_type": "execute_result"
    }
   ],
   "source": [
    "type(bilet_sinifi)"
   ]
  },
  {
   "cell_type": "code",
   "execution_count": 13,
   "metadata": {
    "colab": {
     "base_uri": "https://localhost:8080/"
    },
    "id": "EQrwJYsgztSi",
    "outputId": "77375742-4f2e-4563-a9e5-1054aa3cde03"
   },
   "outputs": [
    {
     "data": {
      "text/plain": [
       "(1309,)"
      ]
     },
     "execution_count": 13,
     "metadata": {},
     "output_type": "execute_result"
    }
   ],
   "source": [
    "bilet_sinifi.shape"
   ]
  },
  {
   "cell_type": "code",
   "execution_count": 14,
   "metadata": {
    "id": "0Bjtcm7uz69l"
   },
   "outputs": [],
   "source": [
    "bilet_sinifi=np.reshape(np.array(bilet_sinifi),(toplam_yolcu_sayisi,1))"
   ]
  },
  {
   "cell_type": "code",
   "execution_count": 15,
   "metadata": {
    "id": "hx2hm4o80JPN"
   },
   "outputs": [],
   "source": [
    "t=0\n",
    "for i in range(toplam_yolcu_sayisi):\n",
    "  if data['pclass'][i]==1 and data['survived'][i]==1:\n",
    "    t+=1"
   ]
  },
  {
   "cell_type": "code",
   "execution_count": 16,
   "metadata": {
    "colab": {
     "base_uri": "https://localhost:8080/"
    },
    "id": "f7YcxdyP1QpR",
    "outputId": "9716196e-745b-47ff-d8f8-8c6dfc9e57ea"
   },
   "outputs": [
    {
     "name": "stdout",
     "output_type": "stream",
     "text": [
      "Birinci sinif yolcularin % 62.0 'ü yaşamıştır\n"
     ]
    }
   ],
   "source": [
    "print(f'Birinci sinif yolcularin % {np.ceil(t/323*100)} \\'ü yaşamıştır')"
   ]
  },
  {
   "cell_type": "code",
   "execution_count": 17,
   "metadata": {
    "id": "ncf6WH4h1ezy"
   },
   "outputs": [],
   "source": [
    "t=0\n",
    "for i in range(toplam_yolcu_sayisi):\n",
    "  if data['pclass'][i]==3 and data['survived'][i]==1:\n",
    "    t+=1"
   ]
  },
  {
   "cell_type": "code",
   "execution_count": 18,
   "metadata": {
    "id": "7DL9lJxE2knb"
   },
   "outputs": [],
   "source": [
    "t=0\n",
    "for i in range(toplam_yolcu_sayisi):\n",
    "  if data['gender'][i]=='male' and data['survived'][i]==1:\n",
    "    t+=1"
   ]
  },
  {
   "cell_type": "code",
   "execution_count": 19,
   "metadata": {
    "colab": {
     "base_uri": "https://localhost:8080/"
    },
    "id": "419Wg-1W2ogF",
    "outputId": "d6d9a903-ed4c-4805-ac1f-1bf9de845ef2"
   },
   "outputs": [
    {
     "name": "stdout",
     "output_type": "stream",
     "text": [
      "Kadinlarin % 35.0 'ü yaşamıştır\n"
     ]
    }
   ],
   "source": [
    "print(f'Kadinlarin % {np.ceil(t/466*100)} \\'ü yaşamıştır')"
   ]
  },
  {
   "cell_type": "code",
   "execution_count": 20,
   "metadata": {
    "colab": {
     "base_uri": "https://localhost:8080/"
    },
    "id": "OozFWuzv1skW",
    "outputId": "b57192ec-b9ec-4e98-d44d-66e2cfcf26e0"
   },
   "outputs": [
    {
     "name": "stdout",
     "output_type": "stream",
     "text": [
      "Erkeklerin % 20.0 'ü yaşamıştır\n"
     ]
    }
   ],
   "source": [
    "print(f'Erkeklerin % {np.ceil(t/843*100)} \\'ü yaşamıştır')"
   ]
  },
  {
   "cell_type": "code",
   "execution_count": 21,
   "metadata": {
    "id": "73TiM9BK2rNY"
   },
   "outputs": [],
   "source": [
    "toplam_kadin_sayisi=len(np.where(data['gender']=='female')[0])"
   ]
  },
  {
   "cell_type": "code",
   "execution_count": 22,
   "metadata": {
    "colab": {
     "base_uri": "https://localhost:8080/"
    },
    "id": "wWZezSsb3VTA",
    "outputId": "92248606-39fd-45cb-a214-717f7204521b"
   },
   "outputs": [],
   "source": [
    "toplam_kadin_sayisi=data['gender'].value_counts().get('female')"
   ]
  },
  {
   "cell_type": "code",
   "execution_count": 23,
   "metadata": {
    "colab": {
     "base_uri": "https://localhost:8080/",
     "height": 178
    },
    "id": "3o3k5k9w4D2O",
    "outputId": "eb6d5c91-b20c-4d3a-ea00-3f93a52bf1c1"
   },
   "outputs": [
    {
     "data": {
      "text/plain": [
       "gender\n",
       "male      843\n",
       "female    466\n",
       "Name: count, dtype: int64"
      ]
     },
     "execution_count": 23,
     "metadata": {},
     "output_type": "execute_result"
    }
   ],
   "source": [
    "data['gender'].value_counts()"
   ]
  },
  {
   "cell_type": "code",
   "execution_count": 24,
   "metadata": {
    "id": "uMlb1RPQ4QjB"
   },
   "outputs": [],
   "source": [
    "cinsiyet=np.zeros(toplam_yolcu_sayisi)\n",
    "cinsiyet[np.where(data['gender']=='male')[0]]=1"
   ]
  },
  {
   "cell_type": "code",
   "execution_count": 25,
   "metadata": {
    "id": "1Ljh74WO5CYb"
   },
   "outputs": [],
   "source": [
    "cinsiyet=np.zeros(toplam_yolcu_sayisi)\n",
    "for i in range(toplam_yolcu_sayisi):\n",
    "  if data['gender'][i]=='male':\n",
    "    cinsiyet[i]=1"
   ]
  },
  {
   "cell_type": "code",
   "execution_count": 26,
   "metadata": {
    "id": "2IUan0Mz4WS8"
   },
   "outputs": [],
   "source": [
    "cinsiyet=np.reshape(cinsiyet,(toplam_yolcu_sayisi,1))"
   ]
  },
  {
   "cell_type": "code",
   "execution_count": 27,
   "metadata": {
    "colab": {
     "base_uri": "https://localhost:8080/"
    },
    "id": "EUt4Z6je4XnV",
    "outputId": "4e20de5a-94ff-44b2-c34e-876c6d33d0a1"
   },
   "outputs": [
    {
     "data": {
      "text/plain": [
       "(1309, 1)"
      ]
     },
     "execution_count": 27,
     "metadata": {},
     "output_type": "execute_result"
    }
   ],
   "source": [
    "cinsiyet.shape"
   ]
  },
  {
   "cell_type": "code",
   "execution_count": 28,
   "metadata": {
    "colab": {
     "base_uri": "https://localhost:8080/"
    },
    "id": "SkOXc2aa46WF",
    "outputId": "913cef30-f0a9-4eef-a07b-a63ae9506d2f"
   },
   "outputs": [],
   "source": [
    "ortalama_yas=np.ceil(np.mean(data['age']))"
   ]
  },
  {
   "cell_type": "code",
   "execution_count": 29,
   "metadata": {
    "colab": {
     "base_uri": "https://localhost:8080/"
    },
    "id": "reoW4Ffn5lK-",
    "outputId": "eb6ed45c-0577-4455-87e4-c7779b07cdba"
   },
   "outputs": [
    {
     "data": {
      "text/plain": [
       "np.float64(29.8811345124283)"
      ]
     },
     "execution_count": 29,
     "metadata": {},
     "output_type": "execute_result"
    }
   ],
   "source": [
    "np.mean(data['age'])"
   ]
  },
  {
   "cell_type": "code",
   "execution_count": 30,
   "metadata": {
    "id": "9yfwIure6VwP"
   },
   "outputs": [],
   "source": [
    "makul_yaslar=[]\n",
    "for i in range(toplam_yolcu_sayisi):\n",
    "  if data['age'][i]>1 or data['age'][i]<100:\n",
    "    makul_yaslar.append(data['age'][i])"
   ]
  },
  {
   "cell_type": "code",
   "execution_count": 31,
   "metadata": {
    "id": "Ft_PZUXc6par"
   },
   "outputs": [],
   "source": [
    "ort_yas=np.mean(makul_yaslar)"
   ]
  },
  {
   "cell_type": "code",
   "execution_count": 32,
   "metadata": {
    "id": "yMtyDULM6yYL"
   },
   "outputs": [],
   "source": [
    "yas=np.zeros(toplam_yolcu_sayisi)\n",
    "for i in range(toplam_yolcu_sayisi):\n",
    "  if np.isnan(data['age'][i]) or data['age'][i]<1 or data['age'][i]>100:\n",
    "    yas[i]=ort_yas\n",
    "  else:\n",
    "    yas[i]=data['age'][i]"
   ]
  },
  {
   "cell_type": "code",
   "execution_count": 33,
   "metadata": {
    "id": "TrRxeziS6yBb"
   },
   "outputs": [],
   "source": [
    "yas=np.reshape(yas,(toplam_yolcu_sayisi,1))"
   ]
  },
  {
   "cell_type": "code",
   "execution_count": null,
   "metadata": {
    "id": "EdO8WPP1_geO"
   },
   "outputs": [],
   "source": []
  },
  {
   "cell_type": "code",
   "execution_count": 34,
   "metadata": {
    "colab": {
     "base_uri": "https://localhost:8080/",
     "height": 398
    },
    "id": "PMCvWOK17jb9",
    "outputId": "57b08606-722d-4ca5-d229-0ba5ef9d6461"
   },
   "outputs": [
    {
     "data": {
      "text/plain": [
       "sibsp\n",
       " 0     891\n",
       " 1     317\n",
       " 2      42\n",
       " 4      22\n",
       " 3      20\n",
       " 8       9\n",
       " 5       6\n",
       "-3       1\n",
       " 71      1\n",
       "Name: count, dtype: int64"
      ]
     },
     "execution_count": 34,
     "metadata": {},
     "output_type": "execute_result"
    }
   ],
   "source": [
    "data['sibsp'].value_counts()"
   ]
  },
  {
   "cell_type": "code",
   "execution_count": 35,
   "metadata": {
    "id": "d5WNIb9D-poc"
   },
   "outputs": [],
   "source": [
    "makul_kardes_sayisi=[]\n",
    "for i in range(toplam_yolcu_sayisi):\n",
    "  if data['sibsp'][i]>=0 or data['sibsp'][i]<8:\n",
    "    makul_kardes_sayisi.append(data['sibsp'][i])"
   ]
  },
  {
   "cell_type": "code",
   "execution_count": null,
   "metadata": {
    "colab": {
     "base_uri": "https://localhost:8080/"
    },
    "id": "L8ivOGVs_DZt",
    "outputId": "262f550e-1385-48a5-cdf6-3a1234f69f8f"
   },
   "outputs": [],
   "source": []
  },
  {
   "cell_type": "code",
   "execution_count": 36,
   "metadata": {
    "id": "-G9JqBnl_Fc0"
   },
   "outputs": [],
   "source": [
    "ort_kardes=np.ceil(np.mean(makul_kardes_sayisi))"
   ]
  },
  {
   "cell_type": "code",
   "execution_count": 37,
   "metadata": {
    "id": "q_i0qVbK_O8W"
   },
   "outputs": [],
   "source": [
    "kardes=np.zeros(toplam_yolcu_sayisi)\n",
    "for i in range(toplam_yolcu_sayisi):\n",
    "  if np.isnan(data['sibsp'][i]) or data['sibsp'][i]>=0 or data['sibsp'][i]<8:\n",
    "    kardes[i]=ort_kardes\n",
    "  else:\n",
    "    kardes[i]=data['sibsp'][i]"
   ]
  },
  {
   "cell_type": "code",
   "execution_count": 38,
   "metadata": {
    "id": "pVJwuoSI_hul"
   },
   "outputs": [],
   "source": [
    "kardes=np.reshape(kardes,(toplam_yolcu_sayisi,1))"
   ]
  },
  {
   "cell_type": "code",
   "execution_count": 39,
   "metadata": {
    "id": "QBJG8Z42_qrE"
   },
   "outputs": [],
   "source": [
    "es=np.reshape(data['parch'],(toplam_yolcu_sayisi,1))"
   ]
  },
  {
   "cell_type": "code",
   "execution_count": 40,
   "metadata": {
    "id": "E6e2h_wU_vUa"
   },
   "outputs": [],
   "source": [
    "ucretler=[]\n",
    "for i in range(toplam_yolcu_sayisi):\n",
    "  if not np.isnan(data['fare'][i]):\n",
    "    ucretler.append(data['fare'][i])"
   ]
  },
  {
   "cell_type": "code",
   "execution_count": 41,
   "metadata": {
    "id": "bBOzIJbzAvFu"
   },
   "outputs": [],
   "source": [
    "max_makul_ucret=np.mean(ucretler)+3*np.std(ucretler)"
   ]
  },
  {
   "cell_type": "code",
   "execution_count": 42,
   "metadata": {
    "colab": {
     "base_uri": "https://localhost:8080/"
    },
    "id": "_zdiV4sfA1Lo",
    "outputId": "4297c158-98ac-4083-d46c-195136d839eb"
   },
   "outputs": [
    {
     "data": {
      "text/plain": [
       "np.float64(188.51211637875963)"
      ]
     },
     "execution_count": 42,
     "metadata": {},
     "output_type": "execute_result"
    }
   ],
   "source": [
    "max_makul_ucret\n"
   ]
  },
  {
   "cell_type": "code",
   "execution_count": 43,
   "metadata": {
    "id": "cM73avoRBD19"
   },
   "outputs": [],
   "source": [
    "ucret=np.zeros(toplam_yolcu_sayisi)\n",
    "for i in range(toplam_yolcu_sayisi):\n",
    "  if np.isnan(data['fare'][i]) or data['fare'][i]>max_makul_ucret or data['fare'][i]<0:\n",
    "    ucret[i]=np.mean(ucretler)\n",
    "  else:\n",
    "    ucret[i]=data['fare'][i]"
   ]
  },
  {
   "cell_type": "code",
   "execution_count": 44,
   "metadata": {
    "id": "MaV95ocyC9yx"
   },
   "outputs": [],
   "source": [
    "ucret=np.reshape(ucret,(1309,1))"
   ]
  },
  {
   "cell_type": "code",
   "execution_count": 45,
   "metadata": {
    "id": "6i4POgzmCOhy"
   },
   "outputs": [],
   "source": [
    "yasamis_mi=np.reshape(np.array(data['survived']).astype(float),(1309,1))"
   ]
  },
  {
   "cell_type": "code",
   "execution_count": 46,
   "metadata": {
    "id": "naizMSV4BvlS"
   },
   "outputs": [],
   "source": [
    "temiz_data=np.concatenate((bilet_sinifi,cinsiyet,yas,kardes,es,ucret,yasamis_mi)\n",
    ",axis=1)"
   ]
  },
  {
   "cell_type": "code",
   "execution_count": 47,
   "metadata": {
    "colab": {
     "base_uri": "https://localhost:8080/"
    },
    "id": "wm_58ZbjCtRc",
    "outputId": "14861ff2-8d47-4151-b9fa-c6b8ed8e2e6c"
   },
   "outputs": [
    {
     "data": {
      "text/plain": [
       "(1309, 1)"
      ]
     },
     "execution_count": 47,
     "metadata": {},
     "output_type": "execute_result"
    }
   ],
   "source": [
    "ucret.shape"
   ]
  },
  {
   "cell_type": "code",
   "execution_count": 48,
   "metadata": {
    "id": "3p-mc-QrCt5E"
   },
   "outputs": [],
   "source": [
    "temiz_data_df=pd.DataFrame(temiz_data,columns=['bilet',\n",
    "                                               'cinsiyet',\n",
    "                                               'yas',\n",
    "                                               'kardes',\n",
    "                                               'es',\n",
    "                                               'ucret',\n",
    "                                               'yasamis_mi'])\n",
    "\n"
   ]
  },
  {
   "cell_type": "code",
   "execution_count": 49,
   "metadata": {
    "colab": {
     "base_uri": "https://localhost:8080/",
     "height": 363
    },
    "id": "jorpQPWSDLBt",
    "outputId": "e447bf0c-a615-42d7-a3cf-35c2d806471b"
   },
   "outputs": [
    {
     "data": {
      "text/html": [
       "<div>\n",
       "<style scoped>\n",
       "    .dataframe tbody tr th:only-of-type {\n",
       "        vertical-align: middle;\n",
       "    }\n",
       "\n",
       "    .dataframe tbody tr th {\n",
       "        vertical-align: top;\n",
       "    }\n",
       "\n",
       "    .dataframe thead th {\n",
       "        text-align: right;\n",
       "    }\n",
       "</style>\n",
       "<table border=\"1\" class=\"dataframe\">\n",
       "  <thead>\n",
       "    <tr style=\"text-align: right;\">\n",
       "      <th></th>\n",
       "      <th>bilet</th>\n",
       "      <th>cinsiyet</th>\n",
       "      <th>yas</th>\n",
       "      <th>kardes</th>\n",
       "      <th>es</th>\n",
       "      <th>ucret</th>\n",
       "      <th>yasamis_mi</th>\n",
       "    </tr>\n",
       "  </thead>\n",
       "  <tbody>\n",
       "    <tr>\n",
       "      <th>0</th>\n",
       "      <td>1.0</td>\n",
       "      <td>0.0</td>\n",
       "      <td>29.000000</td>\n",
       "      <td>1.0</td>\n",
       "      <td>0.0</td>\n",
       "      <td>33.295479</td>\n",
       "      <td>1.0</td>\n",
       "    </tr>\n",
       "    <tr>\n",
       "      <th>1</th>\n",
       "      <td>1.0</td>\n",
       "      <td>1.0</td>\n",
       "      <td>29.881135</td>\n",
       "      <td>1.0</td>\n",
       "      <td>2.0</td>\n",
       "      <td>151.550000</td>\n",
       "      <td>1.0</td>\n",
       "    </tr>\n",
       "    <tr>\n",
       "      <th>2</th>\n",
       "      <td>1.0</td>\n",
       "      <td>0.0</td>\n",
       "      <td>2.000000</td>\n",
       "      <td>1.0</td>\n",
       "      <td>2.0</td>\n",
       "      <td>151.550000</td>\n",
       "      <td>0.0</td>\n",
       "    </tr>\n",
       "    <tr>\n",
       "      <th>3</th>\n",
       "      <td>1.0</td>\n",
       "      <td>1.0</td>\n",
       "      <td>30.000000</td>\n",
       "      <td>1.0</td>\n",
       "      <td>2.0</td>\n",
       "      <td>151.550000</td>\n",
       "      <td>0.0</td>\n",
       "    </tr>\n",
       "    <tr>\n",
       "      <th>4</th>\n",
       "      <td>1.0</td>\n",
       "      <td>0.0</td>\n",
       "      <td>25.000000</td>\n",
       "      <td>1.0</td>\n",
       "      <td>2.0</td>\n",
       "      <td>151.550000</td>\n",
       "      <td>0.0</td>\n",
       "    </tr>\n",
       "    <tr>\n",
       "      <th>5</th>\n",
       "      <td>1.0</td>\n",
       "      <td>1.0</td>\n",
       "      <td>48.000000</td>\n",
       "      <td>1.0</td>\n",
       "      <td>0.0</td>\n",
       "      <td>26.550000</td>\n",
       "      <td>1.0</td>\n",
       "    </tr>\n",
       "    <tr>\n",
       "      <th>6</th>\n",
       "      <td>1.0</td>\n",
       "      <td>0.0</td>\n",
       "      <td>63.000000</td>\n",
       "      <td>1.0</td>\n",
       "      <td>0.0</td>\n",
       "      <td>77.958300</td>\n",
       "      <td>1.0</td>\n",
       "    </tr>\n",
       "    <tr>\n",
       "      <th>7</th>\n",
       "      <td>1.0</td>\n",
       "      <td>1.0</td>\n",
       "      <td>39.000000</td>\n",
       "      <td>1.0</td>\n",
       "      <td>0.0</td>\n",
       "      <td>0.000000</td>\n",
       "      <td>0.0</td>\n",
       "    </tr>\n",
       "    <tr>\n",
       "      <th>8</th>\n",
       "      <td>1.0</td>\n",
       "      <td>0.0</td>\n",
       "      <td>53.000000</td>\n",
       "      <td>1.0</td>\n",
       "      <td>0.0</td>\n",
       "      <td>51.479200</td>\n",
       "      <td>1.0</td>\n",
       "    </tr>\n",
       "    <tr>\n",
       "      <th>9</th>\n",
       "      <td>1.0</td>\n",
       "      <td>1.0</td>\n",
       "      <td>71.000000</td>\n",
       "      <td>1.0</td>\n",
       "      <td>0.0</td>\n",
       "      <td>49.504200</td>\n",
       "      <td>0.0</td>\n",
       "    </tr>\n",
       "  </tbody>\n",
       "</table>\n",
       "</div>"
      ],
      "text/plain": [
       "   bilet  cinsiyet        yas  kardes   es       ucret  yasamis_mi\n",
       "0    1.0       0.0  29.000000     1.0  0.0   33.295479         1.0\n",
       "1    1.0       1.0  29.881135     1.0  2.0  151.550000         1.0\n",
       "2    1.0       0.0   2.000000     1.0  2.0  151.550000         0.0\n",
       "3    1.0       1.0  30.000000     1.0  2.0  151.550000         0.0\n",
       "4    1.0       0.0  25.000000     1.0  2.0  151.550000         0.0\n",
       "5    1.0       1.0  48.000000     1.0  0.0   26.550000         1.0\n",
       "6    1.0       0.0  63.000000     1.0  0.0   77.958300         1.0\n",
       "7    1.0       1.0  39.000000     1.0  0.0    0.000000         0.0\n",
       "8    1.0       0.0  53.000000     1.0  0.0   51.479200         1.0\n",
       "9    1.0       1.0  71.000000     1.0  0.0   49.504200         0.0"
      ]
     },
     "execution_count": 49,
     "metadata": {},
     "output_type": "execute_result"
    }
   ],
   "source": [
    "temiz_data_df.head(10)"
   ]
  },
  {
   "cell_type": "code",
   "execution_count": null,
   "metadata": {},
   "outputs": [],
   "source": []
  },
  {
   "cell_type": "code",
   "execution_count": null,
   "metadata": {},
   "outputs": [],
   "source": []
  }
 ],
 "metadata": {
  "colab": {
   "provenance": []
  },
  "kernelspec": {
   "display_name": "Python 3 (ipykernel)",
   "language": "python",
   "name": "python3"
  },
  "language_info": {
   "codemirror_mode": {
    "name": "ipython",
    "version": 3
   },
   "file_extension": ".py",
   "mimetype": "text/x-python",
   "name": "python",
   "nbconvert_exporter": "python",
   "pygments_lexer": "ipython3",
   "version": "3.12.3"
  }
 },
 "nbformat": 4,
 "nbformat_minor": 4
}
