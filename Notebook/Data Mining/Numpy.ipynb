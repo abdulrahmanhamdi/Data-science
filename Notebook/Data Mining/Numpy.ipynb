{
 "cells": [
  {
   "cell_type": "markdown",
   "id": "459f7227-5712-4a3a-a8f5-3b85c7606888",
   "metadata": {},
   "source": [
    "Numpy Library"
   ]
  },
  {
   "cell_type": "code",
   "execution_count": 1,
   "id": "11cdf7f0-8af9-486d-8fa2-6e42d7253fdd",
   "metadata": {},
   "outputs": [],
   "source": [
    "import numpy as np "
   ]
  },
  {
   "cell_type": "code",
   "execution_count": 3,
   "id": "1e25a083-fec1-4e21-bbde-1df15d0c8eef",
   "metadata": {},
   "outputs": [],
   "source": [
    "np_array=np.array([1,3,6,-3])"
   ]
  },
  {
   "cell_type": "code",
   "execution_count": 4,
   "id": "6501560f-d13e-4697-84e6-cd231bcfeb22",
   "metadata": {},
   "outputs": [
    {
     "data": {
      "text/plain": [
       "np.float64(1.75)"
      ]
     },
     "execution_count": 4,
     "metadata": {},
     "output_type": "execute_result"
    }
   ],
   "source": [
    "np.mean(np_array)"
   ]
  },
  {
   "cell_type": "code",
   "execution_count": 5,
   "id": "3cda31cf-b47e-4ef5-9091-24cd8437f8d6",
   "metadata": {},
   "outputs": [
    {
     "data": {
      "text/plain": [
       "np.float64(2.0)"
      ]
     },
     "execution_count": 5,
     "metadata": {},
     "output_type": "execute_result"
    }
   ],
   "source": [
    "np.median(np_array)"
   ]
  },
  {
   "cell_type": "code",
   "execution_count": 7,
   "id": "cf50a21d-7067-4379-9ea0-7c595b5268a0",
   "metadata": {},
   "outputs": [
    {
     "data": {
      "text/plain": [
       "np.int64(3)"
      ]
     },
     "execution_count": 7,
     "metadata": {},
     "output_type": "execute_result"
    }
   ],
   "source": [
    "np.argmin(np_array)"
   ]
  },
  {
   "cell_type": "code",
   "execution_count": 8,
   "id": "01734b04-5463-4dbc-9e4d-86df657eb7e0",
   "metadata": {},
   "outputs": [
    {
     "data": {
      "text/plain": [
       "np.int64(2)"
      ]
     },
     "execution_count": 8,
     "metadata": {},
     "output_type": "execute_result"
    }
   ],
   "source": [
    "np.argmax(np_array)"
   ]
  },
  {
   "cell_type": "code",
   "execution_count": 9,
   "id": "24951052-9b18-4b81-8d6b-933b9c034568",
   "metadata": {},
   "outputs": [
    {
     "data": {
      "text/plain": [
       "np.float64(3.2691742076555053)"
      ]
     },
     "execution_count": 9,
     "metadata": {},
     "output_type": "execute_result"
    }
   ],
   "source": [
    "np.std(np_array)"
   ]
  },
  {
   "cell_type": "code",
   "execution_count": 10,
   "id": "8a89e012-797d-43eb-9555-bc0be97e721e",
   "metadata": {},
   "outputs": [
    {
     "name": "stdout",
     "output_type": "stream",
     "text": [
      "[ 1  3  6 -3]\n"
     ]
    }
   ],
   "source": [
    "print(np_array)"
   ]
  },
  {
   "cell_type": "code",
   "execution_count": 11,
   "id": "19fe8ad7-4315-41fb-be78-6f78393d303d",
   "metadata": {},
   "outputs": [
    {
     "name": "stdout",
     "output_type": "stream",
     "text": [
      "[-100    3    6   -3]\n"
     ]
    }
   ],
   "source": [
    "np_array_2 = np_array\n",
    "np_array[0]=-100\n",
    "print(np_array_2)"
   ]
  },
  {
   "cell_type": "code",
   "execution_count": 13,
   "id": "ae8febb2-be60-4834-8eab-96a87a330ace",
   "metadata": {},
   "outputs": [
    {
     "name": "stdout",
     "output_type": "stream",
     "text": [
      "[ 3  6 -3]\n"
     ]
    }
   ],
   "source": [
    "np_array=np.array([3,6,-3])\n",
    "np_array_2 =np.copy(np_array)\n",
    "np_array[0]=-100\n",
    "print(np_array_2)"
   ]
  },
  {
   "cell_type": "code",
   "execution_count": null,
   "id": "2524d02f-d0ae-4cf7-a0a5-f37850b56f44",
   "metadata": {},
   "outputs": [],
   "source": []
  }
 ],
 "metadata": {
  "kernelspec": {
   "display_name": "Python 3 (ipykernel)",
   "language": "python",
   "name": "python3"
  },
  "language_info": {
   "codemirror_mode": {
    "name": "ipython",
    "version": 3
   },
   "file_extension": ".py",
   "mimetype": "text/x-python",
   "name": "python",
   "nbconvert_exporter": "python",
   "pygments_lexer": "ipython3",
   "version": "3.12.3"
  }
 },
 "nbformat": 4,
 "nbformat_minor": 5
}
