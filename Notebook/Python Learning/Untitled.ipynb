{
 "cells": [
  {
   "cell_type": "code",
   "execution_count": 1,
   "id": "192763a7-653c-424c-a4d7-702dd10220bf",
   "metadata": {},
   "outputs": [],
   "source": [
    "import numpy as np"
   ]
  },
  {
   "cell_type": "code",
   "execution_count": 2,
   "id": "99171ac9-a4d8-481e-865d-5bb9f24d1b11",
   "metadata": {},
   "outputs": [],
   "source": [
    "py_list = [1,2,3,4,5,6,7,8,9]"
   ]
  },
  {
   "cell_type": "code",
   "execution_count": 3,
   "id": "b045bed4-f1d6-4aa5-ab78-1733a202d542",
   "metadata": {},
   "outputs": [],
   "source": [
    "np_array = np.array([1,2,3,4,5,6,7,8,9])"
   ]
  },
  {
   "cell_type": "code",
   "execution_count": 4,
   "id": "3b313690-7664-4fad-baea-87e9ae05c0e9",
   "metadata": {},
   "outputs": [
    {
     "name": "stdout",
     "output_type": "stream",
     "text": [
      "<class 'list'>\n"
     ]
    }
   ],
   "source": [
    "print(type(py_list))"
   ]
  },
  {
   "cell_type": "code",
   "execution_count": 5,
   "id": "1c5b2cce-df4e-4e35-bfa5-ffc77ec71546",
   "metadata": {},
   "outputs": [
    {
     "name": "stdout",
     "output_type": "stream",
     "text": [
      "<class 'numpy.ndarray'>\n"
     ]
    }
   ],
   "source": [
    "print(type(np_array))"
   ]
  },
  {
   "cell_type": "code",
   "execution_count": 6,
   "id": "12875eb8-103d-4313-bd3f-3a97c5509a93",
   "metadata": {},
   "outputs": [],
   "source": [
    "py_multi = [[1,2,3],[4,5,6],[7,8,9]]"
   ]
  },
  {
   "cell_type": "code",
   "execution_count": 7,
   "id": "f66442c3-4e59-4815-99d9-d498bee48af5",
   "metadata": {},
   "outputs": [],
   "source": [
    "np_multi = np_array.reshape(3,3)"
   ]
  },
  {
   "cell_type": "code",
   "execution_count": 8,
   "id": "229f2ce3-9ae1-4a84-b7e7-4d17e94d6404",
   "metadata": {},
   "outputs": [
    {
     "name": "stdout",
     "output_type": "stream",
     "text": [
      "[[1 2 3]\n",
      " [4 5 6]\n",
      " [7 8 9]]\n"
     ]
    }
   ],
   "source": [
    "print(np_multi)"
   ]
  },
  {
   "cell_type": "code",
   "execution_count": 9,
   "id": "ad7ab1f6-4c1e-4c45-a2bf-8100e91519b0",
   "metadata": {},
   "outputs": [
    {
     "name": "stdout",
     "output_type": "stream",
     "text": [
      "[[1, 2, 3], [4, 5, 6], [7, 8, 9]]\n"
     ]
    }
   ],
   "source": [
    "print(py_multi)"
   ]
  },
  {
   "cell_type": "code",
   "execution_count": 10,
   "id": "cc76c156-7238-4ea8-91c7-0686792faae9",
   "metadata": {},
   "outputs": [
    {
     "name": "stdout",
     "output_type": "stream",
     "text": [
      "2\n"
     ]
    }
   ],
   "source": [
    "print(np_multi.ndim)"
   ]
  },
  {
   "cell_type": "code",
   "execution_count": 11,
   "id": "383597da-aedc-48d2-8bec-fdf4af6892f5",
   "metadata": {},
   "outputs": [
    {
     "name": "stdout",
     "output_type": "stream",
     "text": [
      "1\n"
     ]
    }
   ],
   "source": [
    "print(np_array.ndim)"
   ]
  },
  {
   "cell_type": "code",
   "execution_count": 12,
   "id": "da51b8e2-dd6b-4c2b-96fa-664119aed03e",
   "metadata": {},
   "outputs": [
    {
     "name": "stdout",
     "output_type": "stream",
     "text": [
      "(9,)\n"
     ]
    }
   ],
   "source": [
    "print(np_array.shape)"
   ]
  },
  {
   "cell_type": "code",
   "execution_count": 13,
   "id": "c611c6b5-138e-416d-87e7-079c2cd51a97",
   "metadata": {},
   "outputs": [
    {
     "name": "stdout",
     "output_type": "stream",
     "text": [
      "(3, 3)\n"
     ]
    }
   ],
   "source": [
    "print(np_multi.shape)"
   ]
  },
  {
   "cell_type": "code",
   "execution_count": 14,
   "id": "3b7837f3-d9d2-4746-9ab1-9a5c8bb187b8",
   "metadata": {},
   "outputs": [],
   "source": [
    "result = np.array([1,3,5,7,9])"
   ]
  },
  {
   "cell_type": "code",
   "execution_count": 15,
   "id": "3afb3791-105d-4803-954d-9da21e0f0899",
   "metadata": {},
   "outputs": [
    {
     "name": "stdout",
     "output_type": "stream",
     "text": [
      "[1 3 5 7 9]\n"
     ]
    }
   ],
   "source": [
    "print(result)"
   ]
  },
  {
   "cell_type": "code",
   "execution_count": 16,
   "id": "21b2df58-4518-4489-988c-8cd2f1c80973",
   "metadata": {},
   "outputs": [],
   "source": [
    "res = np.arange(1,10)\n",
    "\n",
    "# res = np.arange(1,10,)"
   ]
  },
  {
   "cell_type": "code",
   "execution_count": 17,
   "id": "1162642a-3351-494e-8e4e-3c0a5a5f3ffc",
   "metadata": {},
   "outputs": [
    {
     "name": "stdout",
     "output_type": "stream",
     "text": [
      "[1 2 3 4 5 6 7 8 9]\n"
     ]
    }
   ],
   "source": [
    "print(res)"
   ]
  },
  {
   "cell_type": "code",
   "execution_count": null,
   "id": "f09608f0-c3c9-4f0e-b40f-5700d08a0f10",
   "metadata": {},
   "outputs": [],
   "source": []
  }
 ],
 "metadata": {
  "kernelspec": {
   "display_name": "Python 3 (ipykernel)",
   "language": "python",
   "name": "python3"
  },
  "language_info": {
   "codemirror_mode": {
    "name": "ipython",
    "version": 3
   },
   "file_extension": ".py",
   "mimetype": "text/x-python",
   "name": "python",
   "nbconvert_exporter": "python",
   "pygments_lexer": "ipython3",
   "version": "3.12.3"
  }
 },
 "nbformat": 4,
 "nbformat_minor": 5
}
