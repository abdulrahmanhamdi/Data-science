{
 "cells": [
  {
   "cell_type": "code",
   "execution_count": null,
   "id": "c299b606-779f-4f08-a766-54215726dd88",
   "metadata": {},
   "outputs": [],
   "source": []
  }
 ],
 "metadata": {
  "kernelspec": {
   "display_name": "",
   "name": ""
  },
  "language_info": {
   "name": ""
  }
 },
 "nbformat": 4,
 "nbformat_minor": 5
}
